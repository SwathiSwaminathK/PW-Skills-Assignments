{
 "cells": [
  {
   "cell_type": "markdown",
   "metadata": {},
   "source": [
    "**Q1.** Which function is used to open a file? What are the different modes of opening a file? Explain each mode\n",
    "of file opening.\n",
    "\n",
    "**Ans:**\n",
    "\n",
    "The open function is used to open a file in Python. The open function takes two arguments: the first argument is the name of the file, and the second argument is the mode in which the file should be opened. \n",
    "\n",
    "The different modes of opening a file in Python are:\n",
    "\n",
    "1. \"r\" - Read mode: This is the default mode and is used to read the contents of an existing file. The file is opened in read-only mode, and you can only read the contents of the file, not modify it.\n",
    "\n",
    "2. \"w\" - Write mode: This mode is used to write to a file. If the file does not exist, a new file is created. If the file exists, its contents are truncated and replaced with the new data.\n",
    "\n",
    "3. \"a\" - Append mode: This mode is used to add data to an existing file. If the file does not exist, a new file is created. The new data is appended to the end of the file, and the original contents of the file are not modified.\n",
    "\n",
    "4. \"x\" - Exclusive creation mode: This mode is used to create a new file. If the file already exists, an error is raised. This mode is useful when you want to ensure that a new file is created, and no file with the same name already exists.\n",
    "\n",
    "5. \"b\" - Binary mode: This mode is used to open a binary file. Binary files are used to store binary data, such as images, audio, or executable files. When a binary file is opened in binary mode, the contents of the file are treated as a sequence of bytes, rather than text.\n",
    "\n",
    "6. \"t\" - Text mode: This mode is used to open a text file. Text files are used to store text data, such as plain text or formatted text. When a text file is opened in text mode, the contents of the file are treated as text, and any line endings are automatically converted to the line ending format used by the operating system."
   ]
  },
  {
   "cell_type": "markdown",
   "metadata": {},
   "source": [
    "**Q2.** Why close() function is used? Why is it important to close a file?\n",
    "\n",
    "**Ans:**\n",
    "\n",
    "The close() function is used to close an open file in Python. It's important to close a file because it frees up the resources that were being used by the file, such as memory and file handles. This can prevent resource leaks, especially if your program uses a large number of files. Closing a file also ensures that all data that has been written to the file is saved to disk, so that you can access the updated data the next time you open the file."
   ]
  },
  {
   "cell_type": "markdown",
   "metadata": {},
   "source": [
    "**Q3.** Write a python program to create a text file. Write ‘I want to become a Data Scientist’ in that file. Then\n",
    "close the file. Open this file and read the content of the file.\n",
    "\n",
    "**Ans:**"
   ]
  },
  {
   "cell_type": "code",
   "execution_count": 52,
   "metadata": {},
   "outputs": [
    {
     "data": {
      "text/plain": [
       "'I want to become a Data Scientist'"
      ]
     },
     "execution_count": 52,
     "metadata": {},
     "output_type": "execute_result"
    }
   ],
   "source": [
    "file = open(\"file.txt\", \"w\")\n",
    "file.write(\"I want to become a Data Scientist\")\n",
    "\n",
    "file.close()\n",
    "\n",
    "file =  open(\"file.txt\", \"r\")\n",
    "file.read()"
   ]
  },
  {
   "cell_type": "code",
   "execution_count": 53,
   "metadata": {},
   "outputs": [],
   "source": [
    "file.close()"
   ]
  },
  {
   "cell_type": "markdown",
   "metadata": {},
   "source": [
    "**Q4.** Explain the following with python code: read(), readline() and readlines().\n",
    "    \n",
    "**Ans:**\n",
    "\n",
    "* read() is a method in Python that reads the entire contents of a file and returns it as a single string.\n",
    "* readline() is a method in Python that reads one line at a time from a file.\n",
    "* readlines() is a method in Python that reads the entire contents of a file and returns it as a list of strings, where each element of the list represents a line of the file. "
   ]
  },
  {
   "cell_type": "code",
   "execution_count": 54,
   "metadata": {},
   "outputs": [],
   "source": [
    "file = open(\"file.txt\", \"w\")\n",
    "file.write(\"A rose is either a woody perennial flowering plant of the genus Rosa, in the family Rosaceae, or the flower it bears.\\n There are over three hundred species and tens of thousands of cultivars.\\n They form a group of plants that can be erect shrubs, climbing, or trailing, with stems that are often armed with sharp prickles.\\n Their flowers vary in size and shape and are usually large and showy, in colours ranging from white through yellows and reds.\\n Most species are native to Asia, with smaller numbers native to Europe, North America, and northwestern Africa.\\n Species, cultivars and hybrids are all widely grown for their beauty and often are fragrant.\\n Roses have acquired cultural significance in many societies.\\n Rose plants range in size from compact, miniature roses, to climbers that can reach seven meters in height.\\n Different species hybridize easily, and this has been used in the development of the wide range of garden roses.\")\n",
    "file.close()"
   ]
  },
  {
   "cell_type": "code",
   "execution_count": 55,
   "metadata": {},
   "outputs": [
    {
     "data": {
      "text/plain": [
       "'A rose is either a woody perennial flowering plant of the genus Rosa, in the family Rosaceae, or the flower it bears.\\n There are over three hundred species and tens of thousands of cultivars.\\n They form a group of plants that can be erect shrubs, climbing, or trailing, with stems that are often armed with sharp prickles.\\n Their flowers vary in size and shape and are usually large and showy, in colours ranging from white through yellows and reds.\\n Most species are native to Asia, with smaller numbers native to Europe, North America, and northwestern Africa.\\n Species, cultivars and hybrids are all widely grown for their beauty and often are fragrant.\\n Roses have acquired cultural significance in many societies.\\n Rose plants range in size from compact, miniature roses, to climbers that can reach seven meters in height.\\n Different species hybridize easily, and this has been used in the development of the wide range of garden roses.'"
      ]
     },
     "execution_count": 55,
     "metadata": {},
     "output_type": "execute_result"
    }
   ],
   "source": [
    "# read()\n",
    "\n",
    "file = open(\"file.txt\", \"r\")\n",
    "file.read()"
   ]
  },
  {
   "cell_type": "code",
   "execution_count": 56,
   "metadata": {},
   "outputs": [
    {
     "data": {
      "text/plain": [
       "'A rose is either a woody perennial flowering plant of the genus Rosa, in the family Rosaceae, or the flower it bears.\\n'"
      ]
     },
     "execution_count": 56,
     "metadata": {},
     "output_type": "execute_result"
    }
   ],
   "source": [
    "# readline()\n",
    "\n",
    "file = open(\"file.txt\", \"r\")\n",
    "file.readline()"
   ]
  },
  {
   "cell_type": "code",
   "execution_count": 57,
   "metadata": {},
   "outputs": [
    {
     "data": {
      "text/plain": [
       "['A rose is either a woody perennial flowering plant of the genus Rosa, in the family Rosaceae, or the flower it bears.\\n',\n",
       " ' There are over three hundred species and tens of thousands of cultivars.\\n',\n",
       " ' They form a group of plants that can be erect shrubs, climbing, or trailing, with stems that are often armed with sharp prickles.\\n',\n",
       " ' Their flowers vary in size and shape and are usually large and showy, in colours ranging from white through yellows and reds.\\n',\n",
       " ' Most species are native to Asia, with smaller numbers native to Europe, North America, and northwestern Africa.\\n',\n",
       " ' Species, cultivars and hybrids are all widely grown for their beauty and often are fragrant.\\n',\n",
       " ' Roses have acquired cultural significance in many societies.\\n',\n",
       " ' Rose plants range in size from compact, miniature roses, to climbers that can reach seven meters in height.\\n',\n",
       " ' Different species hybridize easily, and this has been used in the development of the wide range of garden roses.']"
      ]
     },
     "execution_count": 57,
     "metadata": {},
     "output_type": "execute_result"
    }
   ],
   "source": [
    "# readlines()\n",
    "\n",
    "file = open(\"file.txt\", \"r\")\n",
    "file.readlines()"
   ]
  },
  {
   "cell_type": "code",
   "execution_count": 58,
   "metadata": {},
   "outputs": [],
   "source": [
    "file.close()"
   ]
  },
  {
   "cell_type": "markdown",
   "metadata": {},
   "source": [
    "**Q5.** Explain why with statement is used with open(). What is the advantage of using with statement and\n",
    "open() together?\n",
    "\n",
    "**Ans:**\n",
    "\n",
    "The \"with\" statement is used to open a file and create a context within which the file will be used. The advantage of using the \"with\" statement is that it automatically closes the file when the block of code within the with statement is completed. This helps to ensure that the file is properly closed and any changes are saved, even if an exception occurs during the execution of the code."
   ]
  },
  {
   "cell_type": "markdown",
   "metadata": {},
   "source": [
    "**Q6.** Explain the write() and writelines() functions. Give a suitable example.\n",
    "\n",
    "**Ans:**\n",
    "\n",
    "* write() function is used to write a string to a file. The string must be passed as an argument to the write() function.\n",
    "* writelines() function is used to write a list of strings to a file. The list of strings must be passed as an argument to the writelines() function. "
   ]
  },
  {
   "cell_type": "code",
   "execution_count": 59,
   "metadata": {},
   "outputs": [],
   "source": [
    "# write()\n",
    "\n",
    "file1 = open(\"file.txt\", \"w\")\n",
    "file1.write(\"I want to become a Data Scientist\")\n",
    "\n",
    "file1.close()"
   ]
  },
  {
   "cell_type": "code",
   "execution_count": 60,
   "metadata": {},
   "outputs": [],
   "source": [
    "# writelines()\n",
    "\n",
    "lines = [\"Rose\", \"Jasmine\", \"Lily\"]\n",
    "file2 = open(\"file.txt\", \"w\")\n",
    "file2.writelines(lines)\n",
    "\n",
    "file2.close()"
   ]
  },
  {
   "cell_type": "code",
   "execution_count": null,
   "metadata": {},
   "outputs": [],
   "source": []
  }
 ],
 "metadata": {
  "kernelspec": {
   "display_name": "Python 3",
   "language": "python",
   "name": "python3"
  },
  "language_info": {
   "codemirror_mode": {
    "name": "ipython",
    "version": 3
   },
   "file_extension": ".py",
   "mimetype": "text/x-python",
   "name": "python",
   "nbconvert_exporter": "python",
   "pygments_lexer": "ipython3",
   "version": "3.8.5"
  }
 },
 "nbformat": 4,
 "nbformat_minor": 4
}
