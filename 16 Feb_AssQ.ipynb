{
 "cells": [
  {
   "cell_type": "markdown",
   "metadata": {},
   "source": [
    "**Q1.** What is a database? Differentiate between SQL and NoSQL databases.\n",
    "\n",
    "**Ans:**\n",
    "\n",
    "A database is a software application that allows users to store, organize, and manage large amounts of structured or unstructured data in a reliable and efficient manner. Databases are widely used in various applications such as e-commerce, banking, healthcare, social media, and many others to store and manage massive amounts of data.\n",
    "\n",
    "SQL (Structured Query Language) and NoSQL (Not Only SQL) are two different types of database systems that differ in their data storage and retrieval methods.\n",
    "\n",
    "SQL databases, also known as Relational Database Management Systems (RDBMS), use a structured schema to store data in tables that are related to one another through keys. SQL databases use SQL as the primary language to manipulate the data and execute queries. SQL databases are best suited for applications where data is well-structured and needs to be accessed and queried frequently.\n",
    "\n",
    "NoSQL databases, on the other hand, are non-relational databases that store data in a non-tabular format, such as key-value pairs, documents, graphs, or column-family. NoSQL databases use different query languages depending on the type of database, such as MongoDB, Cassandra, and Couchbase, among others. NoSQL databases are best suited for applications where data is unstructured or semi-structured and requires fast and flexible querying."
   ]
  },
  {
   "cell_type": "markdown",
   "metadata": {},
   "source": [
    "**Q2.** What is DDL? Explain why CREATE, DROP, ALTER, and TRUNCATE are used with an example.\n",
    "\n",
    "**Ans:**\n",
    "\n",
    "DDL stands for Data Definition Language, which is a subset of SQL that is used to define the structure and organization of a database. DDL commands are used to create, modify, and delete database objects such as tables, indexes, views, and stored procedures.\n",
    "\n",
    "1. CREATE: The CREATE command is used to create new database objects such as tables, views, and indexes. "
   ]
  },
  {
   "cell_type": "code",
   "execution_count": null,
   "metadata": {},
   "outputs": [],
   "source": [
    "CREATE TABLE customers (id INT, name VARCHAR(50), email VARCHAR(50));"
   ]
  },
  {
   "cell_type": "markdown",
   "metadata": {},
   "source": [
    "2. DROP: The DROP command is used to delete an existing database object such as a table or view. "
   ]
  },
  {
   "cell_type": "code",
   "execution_count": null,
   "metadata": {},
   "outputs": [],
   "source": [
    "DROP TABLE customers;"
   ]
  },
  {
   "cell_type": "markdown",
   "metadata": {},
   "source": [
    "3. ALTER: The ALTER command is used to modify the structure of an existing database object such as a table or view. "
   ]
  },
  {
   "cell_type": "code",
   "execution_count": null,
   "metadata": {},
   "outputs": [],
   "source": [
    "ALTER TABLE customers ADD COLUMN phone VARCHAR(20);"
   ]
  },
  {
   "cell_type": "markdown",
   "metadata": {},
   "source": [
    "4. TRUNCATE: The TRUNCATE command is used to remove all data from a table, but it keeps the structure of the table intact. "
   ]
  },
  {
   "cell_type": "code",
   "execution_count": null,
   "metadata": {},
   "outputs": [],
   "source": [
    "TRUNCATE TABLE customers;"
   ]
  },
  {
   "cell_type": "markdown",
   "metadata": {},
   "source": [
    "**Q3.** What is DML? Explain INSERT, UPDATE, and DELETE with an example.\n",
    "\n",
    "**Ans:**\n",
    "\n",
    "DML stands for Data Manipulation Language, which is a subset of SQL used to manage data within a database. DML commands are used to insert, update, and delete data in tables. \n",
    "\n",
    "1. INSERT: The INSERT command is used to add new data to a table. "
   ]
  },
  {
   "cell_type": "code",
   "execution_count": null,
   "metadata": {},
   "outputs": [],
   "source": [
    "INSERT INTO customers (id, name, email) VALUES (1, 'John Doe', 'john.doe@example.com');"
   ]
  },
  {
   "cell_type": "markdown",
   "metadata": {},
   "source": [
    "2. UPDATE: The UPDATE command is used to modify existing data in a table. "
   ]
  },
  {
   "cell_type": "code",
   "execution_count": null,
   "metadata": {},
   "outputs": [],
   "source": [
    "UPDATE customers SET email = 'jane.doe@example.com' WHERE id = 1;"
   ]
  },
  {
   "cell_type": "markdown",
   "metadata": {},
   "source": [
    "3. DELETE: The DELETE command is used to remove data from a table. "
   ]
  },
  {
   "cell_type": "code",
   "execution_count": null,
   "metadata": {},
   "outputs": [],
   "source": [
    "DELETE FROM customers WHERE id = 1;"
   ]
  },
  {
   "cell_type": "markdown",
   "metadata": {},
   "source": [
    "**Q4.** What is DQL? Explain SELECT with an example.\n",
    "\n",
    "**Ans:**\n",
    "\n",
    "DQL stands for Data Query Language, which is a subset of SQL used to query data from a database. DQL commands are used to retrieve data from tables and views. \n",
    "\n",
    "1. SELECT: The SELECT command is used to retrieve data from one or more tables. It is used with the FROM clause to specify the table or tables to query. "
   ]
  },
  {
   "cell_type": "code",
   "execution_count": null,
   "metadata": {},
   "outputs": [],
   "source": [
    "SELECT * FROM customers;"
   ]
  },
  {
   "cell_type": "code",
   "execution_count": null,
   "metadata": {},
   "outputs": [],
   "source": [
    "SELECT name, email FROM customers;"
   ]
  },
  {
   "cell_type": "code",
   "execution_count": null,
   "metadata": {},
   "outputs": [],
   "source": [
    "SELECT * FROM customers WHERE email LIKE '%@sample.com';"
   ]
  },
  {
   "cell_type": "markdown",
   "metadata": {},
   "source": [
    "**Q5.** Explain Primary Key and Foreign Key.\n",
    "\n",
    "**Ans:**\n",
    "\n",
    "Primary key and foreign key are two important concepts in database design that are used to establish relationships between tables. \n",
    "\n",
    "1. Primary key: A primary key is a column or a set of columns in a table that uniquely identifies each row. It is used to enforce data integrity by ensuring that each row in a table can be uniquely identified. Primary keys are also used to establish relationships between tables.\n",
    "\n",
    "\n",
    "2. Foreign key: A foreign key is a column or a set of columns in one table that refers to the primary key of another table. It is used to establish a relationship between two tables by referencing a column in one table that contains the primary key of another table. "
   ]
  },
  {
   "cell_type": "markdown",
   "metadata": {},
   "source": [
    "**Q6.** Write a python code to connect MySQL to python. Explain the cursor() and execute() method.\n",
    "\n",
    "**Ans:**"
   ]
  },
  {
   "cell_type": "code",
   "execution_count": null,
   "metadata": {},
   "outputs": [],
   "source": [
    "import mysql.connector\n",
    "\n",
    "mydb = mysql.connector.connect(\n",
    "  host=\"localhost\",\n",
    "  user=\"yourusername\",\n",
    "  password=\"yourpassword\",\n",
    "  database=\"mydatabase\"\n",
    ")\n",
    "\n",
    "mycursor = mydb.cursor()\n",
    "\n",
    "mycursor.execute(\"SELECT * FROM customers\")\n",
    "\n",
    "rows = mycursor.fetchall()\n",
    "\n",
    "for row in rows:\n",
    "    print(row)\n"
   ]
  },
  {
   "cell_type": "markdown",
   "metadata": {},
   "source": [
    "The **cursor()** method is used to create a cursor object that can be used to execute SQL queries and fetch results, \n",
    "\n",
    "whereas the **execute()** method is used to execute a SQL query."
   ]
  },
  {
   "cell_type": "markdown",
   "metadata": {},
   "source": [
    "**Q7.** Give the order of execution of SQL clauses in an SQL query.\n",
    "\n",
    "**Ans:**\n",
    "\n",
    "The order of execution of SQL clauses in an SQL query are:\n",
    "\n",
    "1. FROM clause: This clause specifies the tables that will be queried in the query.\n",
    "\n",
    "\n",
    "2. JOIN clause: This clause is used to combine data from two or more tables based on a related column.\n",
    "\n",
    "\n",
    "3. WHERE clause: This clause is used to filter the data based on a specific condition.\n",
    "\n",
    "\n",
    "4. GROUP BY clause: This clause is used to group the data based on one or more columns.\n",
    "\n",
    "\n",
    "5. HAVING clause: This clause is used to filter the data based on a condition that is applied to the result set after the GROUP BY clause has been applied.\n",
    "\n",
    "\n",
    "6. SELECT clause: This clause specifies the columns that will be selected in the query.\n",
    "\n",
    "\n",
    "7. ORDER BY clause: This clause is used to sort the data based on one or more columns.\n",
    "\n",
    "\n",
    "8. LIMIT clause: This clause is used to limit the number of rows that are returned by the query."
   ]
  },
  {
   "cell_type": "code",
   "execution_count": null,
   "metadata": {},
   "outputs": [],
   "source": []
  }
 ],
 "metadata": {
  "kernelspec": {
   "display_name": "Python 3",
   "language": "python",
   "name": "python3"
  },
  "language_info": {
   "codemirror_mode": {
    "name": "ipython",
    "version": 3
   },
   "file_extension": ".py",
   "mimetype": "text/x-python",
   "name": "python",
   "nbconvert_exporter": "python",
   "pygments_lexer": "ipython3",
   "version": "3.8.5"
  }
 },
 "nbformat": 4,
 "nbformat_minor": 4
}
