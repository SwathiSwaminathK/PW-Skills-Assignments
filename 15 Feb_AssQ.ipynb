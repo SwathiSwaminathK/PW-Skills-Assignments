{
 "cells": [
  {
   "cell_type": "markdown",
   "metadata": {},
   "source": [
    "**Q1.** What is multiprocessing in python? Why is it useful?\n",
    "\n",
    "**Ans:**\n",
    "\n",
    "Multiprocessing is a technique in which multiple processes are used to execute a program simultaneously, taking advantage of the multiple CPUs or cores available on modern computers. In Python, multiprocessing can be used to create multiple independent processes that can execute tasks in parallel, enabling programs to take full advantage of the available hardware resources and achieve better performance.\n",
    "\n",
    "Multiprocessing is useful in a variety of situations, particularly when dealing with CPU-bound tasks that can benefit from parallel execution. By using multiprocessing, data processing, and machine learning algorithms that require extensive computations can be distributed across multiple processes, allowing them to be executed in parallel and reducing the overall execution time.\n",
    "\n",
    "Multiprocessing can also be used to improve the robustness of a program by isolating different parts of the code in separate processes. This can help to prevent crashes or errors in one part of the program from affecting other parts of the program, and can make it easier to diagnose and fix bugs."
   ]
  },
  {
   "cell_type": "markdown",
   "metadata": {},
   "source": [
    "**Q2.** What are the differences between multiprocessing and multithreading?\n",
    "\n",
    "**Ans:**\n",
    "\n",
    "Some of differences between Multiprocessing and Multithreading:\n",
    "\n",
    "1. Separate memory space: In multiprocessing, each process has its own memory space, while in multithreading, all threads share the same memory space. This means that processes can't access each other's data directly, while threads can access shared data within the same process.\n",
    "\n",
    "\n",
    "2. Separate execution: Each process runs independently of the others, with its own resources and execution context, while threads all run within the same process, sharing resources and executing concurrently.\n",
    "\n",
    "\n",
    "3. Communication: Interprocess communication can be more difficult and less efficient than interthread communication, which can be done using shared memory, semaphores, locks, and other synchronization primitives.\n",
    "\n",
    "\n",
    "4. Scalability: Multiprocessing can be more scalable, as it can take advantage of multiple CPUs and cores to achieve better performance, while multithreading can suffer from contention and synchronization issues as the number of threads increases.\n",
    "\n",
    "\n",
    "5. Overhead: Multiprocessing involves more overhead than multithreading, as each process requires its own resources and scheduling, while threads can be created and managed more efficiently within the same process."
   ]
  },
  {
   "cell_type": "markdown",
   "metadata": {},
   "source": [
    "**Q3.** Write a python code to create a process using the multiprocessing module.\n",
    "\n",
    "**Ans:**"
   ]
  },
  {
   "cell_type": "code",
   "execution_count": 6,
   "metadata": {},
   "outputs": [],
   "source": [
    "import multiprocessing\n",
    "\n",
    "def square(index , value ):\n",
    "    value[index] = value[index] **2\n",
    "    \n",
    "if __name__ == '__main__':\n",
    "    \n",
    "    arr = multiprocessing.Array('i', [2,3,6,7,8,8,9,3,3,3])\n",
    "    process = []\n",
    "    for i in range(10) : \n",
    "        m = multiprocessing.Process(target=square , args = (i ,arr ))\n",
    "        process.append(m)\n",
    "        m.start()\n",
    "    for m in process:\n",
    "        m.join()\n",
    "    print(list(arr))"
   ]
  },
  {
   "cell_type": "markdown",
   "metadata": {},
   "source": [
    "**Q4.** What is a multiprocessing pool in python? Why is it used?\n",
    "\n",
    "**Ans:**\n",
    "\n",
    "A multiprocessing pool in Python is a way to distribute a set of tasks across multiple processes, taking advantage of the available CPUs or cores on a computer to execute the tasks in parallel. A pool consists of a group of worker processes that can be used to execute tasks asynchronously, enabling the program to perform multiple computations simultaneously.\n",
    "\n",
    "A Pool class is used to create a pool of worker processes. The Pool class provides a simple and easy-to-use interface for parallel processing, allowing you to submit tasks to the pool and receive the results as they become available. A pool is typically used when you have a set of tasks that can be executed independently, such as in a map-reduce style computation.\n",
    "\n",
    "Using a pool can help to improve the performance of your program by taking advantage of the available hardware resources and executing tasks in parallel. It can also help to simplify the task of managing and coordinating multiple processes, as the Pool class provides a simple and consistent interface for submitting and collecting results from the worker processes."
   ]
  },
  {
   "cell_type": "markdown",
   "metadata": {},
   "source": [
    "**Q5.** How can we create a pool of worker processes in python using the multiprocessing module?\n",
    "\n",
    "**Ans:**"
   ]
  },
  {
   "cell_type": "code",
   "execution_count": null,
   "metadata": {},
   "outputs": [],
   "source": [
    "import multiprocessing\n",
    "\n",
    "def square(n):\n",
    "    return n**2\n",
    "\n",
    "if __name__ == '__main__':\n",
    "    \n",
    "    with multiprocessing.Pool(processes=5) as pool :\n",
    "        out =pool.map(square , [3,4,5,6,6,7,87,8,8])\n",
    "        print(out)"
   ]
  },
  {
   "cell_type": "markdown",
   "metadata": {},
   "source": [
    "**Q6.** Write a python program to create 4 processes, each process should print a different number using the\n",
    "multiprocessing module in python.\n",
    "\n",
    "**Ans:**"
   ]
  },
  {
   "cell_type": "code",
   "execution_count": null,
   "metadata": {},
   "outputs": [],
   "source": [
    "import multiprocessing\n",
    "\n",
    "def number(n):\n",
    "    print(f\" {multiprocessing.current_process().name}, num: {n}\")\n",
    "\n",
    "if __name__ == '__main__':\n",
    "    \n",
    "    processes = []\n",
    "    for i in range(4):\n",
    "        p = multiprocessing.Process(target=number, args=(i,))\n",
    "        processes.append(p)\n",
    "        p.start()\n",
    "\n",
    "    for p in processes:\n",
    "        p.join()"
   ]
  }
 ],
 "metadata": {
  "kernelspec": {
   "display_name": "Python 3",
   "language": "python",
   "name": "python3"
  },
  "language_info": {
   "codemirror_mode": {
    "name": "ipython",
    "version": 3
   },
   "file_extension": ".py",
   "mimetype": "text/x-python",
   "name": "python",
   "nbconvert_exporter": "python",
   "pygments_lexer": "ipython3",
   "version": "3.8.5"
  }
 },
 "nbformat": 4,
 "nbformat_minor": 4
}
