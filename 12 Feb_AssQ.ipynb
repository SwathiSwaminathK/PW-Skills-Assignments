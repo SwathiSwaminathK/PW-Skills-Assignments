{
 "cells": [
  {
   "cell_type": "markdown",
   "metadata": {},
   "source": [
    "**Q1.** What is an Exception in python? Write the difference between Exception and Syntax errors.\n",
    "\n",
    "**Ans:**\n",
    "\n",
    "An Exception in Python is an event that occurs during the execution of a program that disrupts the normal flow of the program's instructions. Exceptions are typically raised when a runtime error occurs, such as when a program tries to divide by zero, access a non-existent list index, or open a file that doesn't exist. Python provides a number of built-in exceptions that can be raised, such as ZeroDivisionError, IndexError, and FileNotFoundError. \n",
    "\n",
    "In case of Syntax error, occurs when the code violates the rules of the programming language's syntax. This is usually due to a typo, a missing parenthesis, or a similar mistake. "
   ]
  },
  {
   "cell_type": "markdown",
   "metadata": {},
   "source": [
    "**Q2.** What happens when an exception is not handled? Explain with an example.\n",
    "\n",
    "**Ans:**\n",
    "\n",
    "When an exception is not handled in a Python program, it leads to the termination of the program. The Python interpreter generates a traceback that provides information about the error, including the type of exception, the location in the code where it occurred, and the trace of function calls that led to the error."
   ]
  },
  {
   "cell_type": "code",
   "execution_count": 2,
   "metadata": {},
   "outputs": [
    {
     "ename": "ZeroDivisionError",
     "evalue": "division by zero",
     "output_type": "error",
     "traceback": [
      "\u001b[1;31m---------------------------------------------------------------------------\u001b[0m",
      "\u001b[1;31mZeroDivisionError\u001b[0m                         Traceback (most recent call last)",
      "\u001b[1;32m<ipython-input-2-f35915ed9152>\u001b[0m in \u001b[0;36m<module>\u001b[1;34m\u001b[0m\n\u001b[0;32m      1\u001b[0m \u001b[1;31m# Example\u001b[0m\u001b[1;33m\u001b[0m\u001b[1;33m\u001b[0m\u001b[1;33m\u001b[0m\u001b[0m\n\u001b[0;32m      2\u001b[0m \u001b[1;33m\u001b[0m\u001b[0m\n\u001b[1;32m----> 3\u001b[1;33m \u001b[0mresult\u001b[0m \u001b[1;33m=\u001b[0m \u001b[1;36m5\u001b[0m \u001b[1;33m/\u001b[0m \u001b[1;36m0\u001b[0m\u001b[1;33m\u001b[0m\u001b[1;33m\u001b[0m\u001b[0m\n\u001b[0m",
      "\u001b[1;31mZeroDivisionError\u001b[0m: division by zero"
     ]
    }
   ],
   "source": [
    "# Example\n",
    "\n",
    "result = 5 / 0"
   ]
  },
  {
   "cell_type": "markdown",
   "metadata": {},
   "source": [
    "Q3. Which Python statements are used to catch and handle exceptions? Explain with an example.\n",
    "\n",
    "**Ans:**\n",
    "\n",
    "The \"try\" and \"except\" statements are used to catch and handle exceptions. The try statement is used to define a block of code that might raise an exception, and the except statement is used to catch and handle the exception if it occurs."
   ]
  },
  {
   "cell_type": "code",
   "execution_count": 3,
   "metadata": {},
   "outputs": [
    {
     "name": "stdout",
     "output_type": "stream",
     "text": [
      "Enter a number: 2\n",
      "Enter another number: 0\n",
      "Cannot divide by zero\n"
     ]
    }
   ],
   "source": [
    "# Example\n",
    "\n",
    "try:\n",
    "    num1 = int(input(\"Enter a number: \"))\n",
    "    num2 = int(input(\"Enter another number: \"))\n",
    "    result = num1 / num2\n",
    "except ZeroDivisionError:\n",
    "    print(\"Cannot divide by zero\")\n",
    "else:\n",
    "    print(\"The result is\", result)"
   ]
  },
  {
   "cell_type": "markdown",
   "metadata": {},
   "source": [
    "In this example, the user inputs two numbers. If the second number is 0, a ZeroDivisionError exception is raised, and the except block is executed to handle the exception. If no exception is raised, the else block is executed to print the result of the division."
   ]
  },
  {
   "cell_type": "markdown",
   "metadata": {},
   "source": [
    "**Q4.** Explain with an example:\n",
    "\n",
    "\ta. try and else\n",
    "\tb. finally\n",
    "\tc. raise\n",
    "    \n",
    "**Ans:**\n",
    "\n",
    "a. try and else:\n",
    "\n",
    "The try and else statement in python is used to catch exceptions and handle them properly. The code under try block is executed and if no exceptions are raised, the code in the else block is executed. The else block is optional, but it is executed when no exceptions are raised."
   ]
  },
  {
   "cell_type": "code",
   "execution_count": 1,
   "metadata": {},
   "outputs": [
    {
     "name": "stdout",
     "output_type": "stream",
     "text": [
      "There is some issue with your code [Errno 2] No such file or directory: 'test1.txt'\n"
     ]
    }
   ],
   "source": [
    "try:\n",
    "    f = open(\"test1.txt\",\"r\")\n",
    "    f.read()\n",
    "except Exception as e:\n",
    "    print(\"There is some issue with your code\", e)"
   ]
  },
  {
   "cell_type": "markdown",
   "metadata": {},
   "source": [
    "b. finally:\n",
    "\n",
    "The finally block in python is executed no matter what happens in the try block. The code in the finally block is executed after the try block, and even if an exception is raised, the finally block is executed. The finally block is used to clean up resources or to do some operations that need to be executed no matter what happens in the try block."
   ]
  },
  {
   "cell_type": "code",
   "execution_count": 2,
   "metadata": {},
   "outputs": [
    {
     "name": "stdout",
     "output_type": "stream",
     "text": [
      "There is some issue with your code [Errno 2] No such file or directory: 'test1.txt'\n",
      "This will always execute\n"
     ]
    }
   ],
   "source": [
    "try:\n",
    "    f = open(\"test1.txt\",\"r\")\n",
    "    f.read()\n",
    "    \n",
    "except Exception as e:\n",
    "    print(\"There is some issue with your code\", e)\n",
    "    \n",
    "finally:\n",
    "    print(\"This will always execute\")"
   ]
  },
  {
   "cell_type": "markdown",
   "metadata": {},
   "source": [
    "c. raise:\n",
    "\n",
    "The raise statement in python is used to raise an exception. The raise statement is used to force an exception to occur and can be used to raise any type of exception."
   ]
  },
  {
   "cell_type": "code",
   "execution_count": 4,
   "metadata": {},
   "outputs": [
    {
     "name": "stdout",
     "output_type": "stream",
     "text": [
      "Enter a number: 5\n",
      "Number should be greater than 5.\n"
     ]
    }
   ],
   "source": [
    "try:\n",
    "    num = int(input(\"Enter a number: \"))\n",
    "    if num <= 5:\n",
    "        raise ValueError(\"Number should be greater than 5.\")\n",
    "    print(num)\n",
    "except ValueError as e:\n",
    "    print(e)\n"
   ]
  },
  {
   "cell_type": "markdown",
   "metadata": {},
   "source": [
    "**Q5.** What are Custom Exceptions in python? Why do we need Custom Exceptions? Explain with an example.\n",
    "\n",
    "**Ans:**\n",
    "\n",
    "Custom exceptions in Python are user-defined exceptions that are created to handle specific error conditions in a program. These custom exceptions allow you to raise and catch exceptions that are tailored to your specific needs.\n",
    "\n",
    "We need custom exceptions in Python because the built-in exceptions provided by the language might not be suitable for all error conditions that might arise in a program. "
   ]
  },
  {
   "cell_type": "code",
   "execution_count": null,
   "metadata": {},
   "outputs": [],
   "source": [
    "class InsufficientFundsException(Exception):\n",
    "    pass\n",
    "\n",
    "def withdraw(amount):\n",
    "    if amount > balance:\n",
    "        raise InsufficientFundsException(\"Insufficient funds.\")\n",
    "\n",
    "# Example usage\n",
    "try:\n",
    "    withdraw(100)\n",
    "except InsufficientFundsException as e:\n",
    "    print(e)"
   ]
  },
  {
   "cell_type": "markdown",
   "metadata": {},
   "source": [
    "In this example, we create a custom exception InsufficientFundsException that inherits from the built-in Exception class. We then raise this exception in the withdraw function if the requested amount is greater than the balance. Finally, we catch the exception in a try-except block and print the error message associated with it."
   ]
  },
  {
   "cell_type": "markdown",
   "metadata": {},
   "source": [
    "**Q6.** Create a custom exception class. Use this class to handle an exception.\n",
    "\n",
    "**Ans:**"
   ]
  },
  {
   "cell_type": "code",
   "execution_count": 5,
   "metadata": {},
   "outputs": [
    {
     "name": "stdout",
     "output_type": "stream",
     "text": [
      "Error: Negative numbers are not allowed\n"
     ]
    }
   ],
   "source": [
    "class NegativeNumberException(Exception):\n",
    "    pass\n",
    "\n",
    "def calculate(num):\n",
    "    if num < 0:\n",
    "        raise NegativeNumberException(\"Negative numbers are not allowed\")\n",
    "\n",
    "try:\n",
    "    calculate(-1)\n",
    "    \n",
    "except NegativeNumberException as e:\n",
    "    print(\"Error:\", e)"
   ]
  },
  {
   "cell_type": "code",
   "execution_count": null,
   "metadata": {},
   "outputs": [],
   "source": []
  }
 ],
 "metadata": {
  "kernelspec": {
   "display_name": "Python 3",
   "language": "python",
   "name": "python3"
  },
  "language_info": {
   "codemirror_mode": {
    "name": "ipython",
    "version": 3
   },
   "file_extension": ".py",
   "mimetype": "text/x-python",
   "name": "python",
   "nbconvert_exporter": "python",
   "pygments_lexer": "ipython3",
   "version": "3.8.5"
  }
 },
 "nbformat": 4,
 "nbformat_minor": 4
}
