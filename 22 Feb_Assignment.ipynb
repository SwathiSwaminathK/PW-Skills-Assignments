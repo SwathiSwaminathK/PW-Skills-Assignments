{
 "cells": [
  {
   "cell_type": "code",
   "execution_count": 22,
   "metadata": {},
   "outputs": [],
   "source": [
    "import pandas as pd\n",
    "from selenium import webdriver\n",
    "from bs4 import BeautifulSoup as bs\n",
    "from webdriver_manager.chrome import ChromeDriverManager"
   ]
  },
  {
   "cell_type": "code",
   "execution_count": 2,
   "metadata": {},
   "outputs": [
    {
     "name": "stderr",
     "output_type": "stream",
     "text": [
      "\n",
      "\n",
      "====== WebDriver manager ======\n",
      "Current google-chrome version is 110.0.5481\n",
      "Get LATEST chromedriver version for 110.0.5481 google-chrome\n",
      "Driver [C:\\Users\\ASUS\\.wdm\\drivers\\chromedriver\\win32\\110.0.5481.77\\chromedriver.exe] found in cache\n",
      "<ipython-input-2-348526eb5466>:1: DeprecationWarning: executable_path has been deprecated, please pass in a Service object\n",
      "  driver = webdriver.Chrome(executable_path=ChromeDriverManager().install())\n"
     ]
    }
   ],
   "source": [
    "driver = webdriver.Chrome(executable_path=ChromeDriverManager().install())"
   ]
  },
  {
   "cell_type": "code",
   "execution_count": 3,
   "metadata": {},
   "outputs": [],
   "source": [
    "driver.get(\"https://www.youtube.com/@PW-Foundation/videos\")"
   ]
  },
  {
   "cell_type": "code",
   "execution_count": 4,
   "metadata": {},
   "outputs": [],
   "source": [
    "content = driver.page_source.encode('utf-8').strip()\n",
    "soup = bs(content, 'html.parser')"
   ]
  },
  {
   "cell_type": "code",
   "execution_count": 5,
   "metadata": {},
   "outputs": [],
   "source": [
    "video_tags = soup.findAll('a',{\"class\":\"yt-simple-endpoint inline-block style-scope ytd-thumbnail\"})"
   ]
  },
  {
   "cell_type": "code",
   "execution_count": 27,
   "metadata": {},
   "outputs": [
    {
     "name": "stdout",
     "output_type": "stream",
     "text": [
      "[<a aria-hidden=\"true\" class=\"yt-simple-endpoint inline-block style-scope ytd-thumbnail\" href=\"/watch?v=-osuIPJkPWg\" id=\"thumbnail\" rel=\"null\" tabindex=\"-1\">\n",
      "<yt-image alt=\"\" class=\"style-scope ytd-thumbnail\" ftl-eligible=\"\" notify-on-loaded=\"\" notify-on-unloaded=\"\"><img alt=\"\" class=\"yt-core-image--fill-parent-height yt-core-image--fill-parent-width yt-core-image yt-core-image--content-mode-scale-aspect-fill yt-core-image--loaded\" src=\"https://i.ytimg.com/vi/-osuIPJkPWg/hqdefault.jpg?sqp=-oaymwEcCNACELwBSFXyq4qpAw4IARUAAIhCGAFwAcABBg==&amp;rs=AOn4CLAIzE3_yVozBODRCJvZ4Qg29v3UuA\" style=\"background-color: transparent;\"/></yt-image>\n",
      "<div class=\"style-scope ytd-thumbnail\" id=\"overlays\"><ytd-thumbnail-overlay-time-status-renderer class=\"style-scope ytd-thumbnail\" overlay-style=\"DEFAULT\"><!--css-build:shady--><yt-icon class=\"style-scope ytd-thumbnail-overlay-time-status-renderer\" disable-upgrade=\"\" hidden=\"\" size=\"16\"></yt-icon><span aria-label=\"2 hours, 15 minutes, 1 second\" class=\"style-scope ytd-thumbnail-overlay-time-status-renderer\" id=\"text\">\n",
      "  2:15:01\n",
      "</span></ytd-thumbnail-overlay-time-status-renderer><ytd-thumbnail-overlay-now-playing-renderer class=\"style-scope ytd-thumbnail\"><!--css-build:shady--><span class=\"style-scope ytd-thumbnail-overlay-now-playing-renderer\" id=\"overlay-text\">Now playing</span>\n",
      "<ytd-thumbnail-overlay-equalizer class=\"style-scope ytd-thumbnail-overlay-now-playing-renderer\"><!--css-build:shady--><svg class=\"style-scope ytd-thumbnail-overlay-equalizer\" id=\"equalizer\" viewbox=\"0 0 55 95\" xmlns=\"http://www.w3.org/2000/svg\">\n",
      "<g class=\"style-scope ytd-thumbnail-overlay-equalizer\">\n",
      "<rect class=\"bar style-scope ytd-thumbnail-overlay-equalizer\" x=\"0\"></rect>\n",
      "<rect class=\"bar style-scope ytd-thumbnail-overlay-equalizer\" x=\"20\"></rect>\n",
      "<rect class=\"bar style-scope ytd-thumbnail-overlay-equalizer\" x=\"40\"></rect>\n",
      "</g>\n",
      "</svg>\n",
      "</ytd-thumbnail-overlay-equalizer>\n",
      "</ytd-thumbnail-overlay-now-playing-renderer></div>\n",
      "<div class=\"style-scope ytd-thumbnail\" id=\"mouseover-overlay\"></div>\n",
      "<div class=\"style-scope ytd-thumbnail\" id=\"hover-overlays\"></div>\n",
      "</a>, <a aria-hidden=\"true\" class=\"yt-simple-endpoint inline-block style-scope ytd-thumbnail\" href=\"/watch?v=VsKb_U2-Cx0\" id=\"thumbnail\" rel=\"null\" tabindex=\"-1\">\n",
      "<yt-image alt=\"\" class=\"style-scope ytd-thumbnail\" ftl-eligible=\"\" notify-on-loaded=\"\" notify-on-unloaded=\"\"><img alt=\"\" class=\"yt-core-image--fill-parent-height yt-core-image--fill-parent-width yt-core-image yt-core-image--content-mode-scale-aspect-fill yt-core-image--loaded\" src=\"https://i.ytimg.com/vi/VsKb_U2-Cx0/hqdefault.jpg?sqp=-oaymwEcCNACELwBSFXyq4qpAw4IARUAAIhCGAFwAcABBg==&amp;rs=AOn4CLBVtsaBL6O32XQx_7Qi-wdGfjn_iA\" style=\"background-color: transparent;\"/></yt-image>\n",
      "<div class=\"style-scope ytd-thumbnail\" id=\"overlays\"><ytd-thumbnail-overlay-time-status-renderer class=\"style-scope ytd-thumbnail\" overlay-style=\"DEFAULT\"><!--css-build:shady--><yt-icon class=\"style-scope ytd-thumbnail-overlay-time-status-renderer\" disable-upgrade=\"\" hidden=\"\" size=\"16\"></yt-icon><span aria-label=\"2 hours, 24 minutes, 54 seconds\" class=\"style-scope ytd-thumbnail-overlay-time-status-renderer\" id=\"text\">\n",
      "  2:24:54\n",
      "</span></ytd-thumbnail-overlay-time-status-renderer><ytd-thumbnail-overlay-now-playing-renderer class=\"style-scope ytd-thumbnail\"><!--css-build:shady--><span class=\"style-scope ytd-thumbnail-overlay-now-playing-renderer\" id=\"overlay-text\">Now playing</span>\n",
      "<ytd-thumbnail-overlay-equalizer class=\"style-scope ytd-thumbnail-overlay-now-playing-renderer\"><!--css-build:shady--><svg class=\"style-scope ytd-thumbnail-overlay-equalizer\" id=\"equalizer\" viewbox=\"0 0 55 95\" xmlns=\"http://www.w3.org/2000/svg\">\n",
      "<g class=\"style-scope ytd-thumbnail-overlay-equalizer\">\n",
      "<rect class=\"bar style-scope ytd-thumbnail-overlay-equalizer\" x=\"0\"></rect>\n",
      "<rect class=\"bar style-scope ytd-thumbnail-overlay-equalizer\" x=\"20\"></rect>\n",
      "<rect class=\"bar style-scope ytd-thumbnail-overlay-equalizer\" x=\"40\"></rect>\n",
      "</g>\n",
      "</svg>\n",
      "</ytd-thumbnail-overlay-equalizer>\n",
      "</ytd-thumbnail-overlay-now-playing-renderer></div>\n",
      "<div class=\"style-scope ytd-thumbnail\" id=\"mouseover-overlay\"></div>\n",
      "<div class=\"style-scope ytd-thumbnail\" id=\"hover-overlays\"></div>\n",
      "</a>, <a aria-hidden=\"true\" class=\"yt-simple-endpoint inline-block style-scope ytd-thumbnail\" href=\"/watch?v=ZNHlCezYN1I\" id=\"thumbnail\" rel=\"null\" tabindex=\"-1\">\n",
      "<yt-image alt=\"\" class=\"style-scope ytd-thumbnail\" ftl-eligible=\"\" notify-on-loaded=\"\" notify-on-unloaded=\"\"><img alt=\"\" class=\"yt-core-image--fill-parent-height yt-core-image--fill-parent-width yt-core-image yt-core-image--content-mode-scale-aspect-fill yt-core-image--loaded\" src=\"https://i.ytimg.com/vi/ZNHlCezYN1I/hqdefault.jpg?sqp=-oaymwEcCNACELwBSFXyq4qpAw4IARUAAIhCGAFwAcABBg==&amp;rs=AOn4CLBCFqdlLDBC2Kkf3zEF-LK5TNEwkw\" style=\"background-color: transparent;\"/></yt-image>\n",
      "<div class=\"style-scope ytd-thumbnail\" id=\"overlays\"><ytd-thumbnail-overlay-time-status-renderer class=\"style-scope ytd-thumbnail\" overlay-style=\"DEFAULT\"><!--css-build:shady--><yt-icon class=\"style-scope ytd-thumbnail-overlay-time-status-renderer\" disable-upgrade=\"\" hidden=\"\" size=\"16\"></yt-icon><span aria-label=\"2 hours, 4 minutes, 54 seconds\" class=\"style-scope ytd-thumbnail-overlay-time-status-renderer\" id=\"text\">\n",
      "  2:04:54\n",
      "</span></ytd-thumbnail-overlay-time-status-renderer><ytd-thumbnail-overlay-now-playing-renderer class=\"style-scope ytd-thumbnail\"><!--css-build:shady--><span class=\"style-scope ytd-thumbnail-overlay-now-playing-renderer\" id=\"overlay-text\">Now playing</span>\n",
      "<ytd-thumbnail-overlay-equalizer class=\"style-scope ytd-thumbnail-overlay-now-playing-renderer\"><!--css-build:shady--><svg class=\"style-scope ytd-thumbnail-overlay-equalizer\" id=\"equalizer\" viewbox=\"0 0 55 95\" xmlns=\"http://www.w3.org/2000/svg\">\n",
      "<g class=\"style-scope ytd-thumbnail-overlay-equalizer\">\n",
      "<rect class=\"bar style-scope ytd-thumbnail-overlay-equalizer\" x=\"0\"></rect>\n",
      "<rect class=\"bar style-scope ytd-thumbnail-overlay-equalizer\" x=\"20\"></rect>\n",
      "<rect class=\"bar style-scope ytd-thumbnail-overlay-equalizer\" x=\"40\"></rect>\n",
      "</g>\n",
      "</svg>\n",
      "</ytd-thumbnail-overlay-equalizer>\n",
      "</ytd-thumbnail-overlay-now-playing-renderer></div>\n",
      "<div class=\"style-scope ytd-thumbnail\" id=\"mouseover-overlay\"></div>\n",
      "<div class=\"style-scope ytd-thumbnail\" id=\"hover-overlays\"></div>\n",
      "</a>, <a aria-hidden=\"true\" class=\"yt-simple-endpoint inline-block style-scope ytd-thumbnail\" href=\"/watch?v=nNmV-fuGW5c\" id=\"thumbnail\" rel=\"null\" tabindex=\"-1\">\n",
      "<yt-image alt=\"\" class=\"style-scope ytd-thumbnail\" ftl-eligible=\"\" notify-on-loaded=\"\" notify-on-unloaded=\"\"><img alt=\"\" class=\"yt-core-image--fill-parent-height yt-core-image--fill-parent-width yt-core-image yt-core-image--content-mode-scale-aspect-fill yt-core-image--loaded\" src=\"https://i.ytimg.com/vi/nNmV-fuGW5c/hqdefault.jpg?sqp=-oaymwEcCNACELwBSFXyq4qpAw4IARUAAIhCGAFwAcABBg==&amp;rs=AOn4CLBjSM8jHxXjo8skRTMryGUJsisS9w\" style=\"background-color: transparent;\"/></yt-image>\n",
      "<div class=\"style-scope ytd-thumbnail\" id=\"overlays\"><ytd-thumbnail-overlay-time-status-renderer class=\"style-scope ytd-thumbnail\" overlay-style=\"DEFAULT\"><!--css-build:shady--><yt-icon class=\"style-scope ytd-thumbnail-overlay-time-status-renderer\" disable-upgrade=\"\" hidden=\"\" size=\"16\"></yt-icon><span aria-label=\"3 hours, 49 minutes, 52 seconds\" class=\"style-scope ytd-thumbnail-overlay-time-status-renderer\" id=\"text\">\n",
      "  3:49:52\n",
      "</span></ytd-thumbnail-overlay-time-status-renderer><ytd-thumbnail-overlay-now-playing-renderer class=\"style-scope ytd-thumbnail\"><!--css-build:shady--><span class=\"style-scope ytd-thumbnail-overlay-now-playing-renderer\" id=\"overlay-text\">Now playing</span>\n",
      "<ytd-thumbnail-overlay-equalizer class=\"style-scope ytd-thumbnail-overlay-now-playing-renderer\"><!--css-build:shady--><svg class=\"style-scope ytd-thumbnail-overlay-equalizer\" id=\"equalizer\" viewbox=\"0 0 55 95\" xmlns=\"http://www.w3.org/2000/svg\">\n",
      "<g class=\"style-scope ytd-thumbnail-overlay-equalizer\">\n",
      "<rect class=\"bar style-scope ytd-thumbnail-overlay-equalizer\" x=\"0\"></rect>\n",
      "<rect class=\"bar style-scope ytd-thumbnail-overlay-equalizer\" x=\"20\"></rect>\n",
      "<rect class=\"bar style-scope ytd-thumbnail-overlay-equalizer\" x=\"40\"></rect>\n",
      "</g>\n",
      "</svg>\n",
      "</ytd-thumbnail-overlay-equalizer>\n",
      "</ytd-thumbnail-overlay-now-playing-renderer></div>\n",
      "<div class=\"style-scope ytd-thumbnail\" id=\"mouseover-overlay\"></div>\n",
      "<div class=\"style-scope ytd-thumbnail\" id=\"hover-overlays\"></div>\n",
      "</a>, <a aria-hidden=\"true\" class=\"yt-simple-endpoint inline-block style-scope ytd-thumbnail\" href=\"/watch?v=6Mht7UigC_w\" id=\"thumbnail\" rel=\"null\" tabindex=\"-1\">\n",
      "<yt-image alt=\"\" class=\"style-scope ytd-thumbnail\" ftl-eligible=\"\" notify-on-loaded=\"\" notify-on-unloaded=\"\"><img alt=\"\" class=\"yt-core-image--fill-parent-height yt-core-image--fill-parent-width yt-core-image yt-core-image--content-mode-scale-aspect-fill yt-core-image--loaded\" src=\"https://i.ytimg.com/vi/6Mht7UigC_w/hqdefault.jpg?sqp=-oaymwEcCNACELwBSFXyq4qpAw4IARUAAIhCGAFwAcABBg==&amp;rs=AOn4CLBHz1uk4Eqa1RW0V9RSoeH8xYtUPA\" style=\"background-color: transparent;\"/></yt-image>\n",
      "<div class=\"style-scope ytd-thumbnail\" id=\"overlays\"><ytd-thumbnail-overlay-time-status-renderer class=\"style-scope ytd-thumbnail\" overlay-style=\"DEFAULT\"><!--css-build:shady--><yt-icon class=\"style-scope ytd-thumbnail-overlay-time-status-renderer\" disable-upgrade=\"\" hidden=\"\" size=\"16\"></yt-icon><span aria-label=\"1 minute, 21 seconds\" class=\"style-scope ytd-thumbnail-overlay-time-status-renderer\" id=\"text\">\n",
      "  1:21\n",
      "</span></ytd-thumbnail-overlay-time-status-renderer><ytd-thumbnail-overlay-now-playing-renderer class=\"style-scope ytd-thumbnail\"><!--css-build:shady--><span class=\"style-scope ytd-thumbnail-overlay-now-playing-renderer\" id=\"overlay-text\">Now playing</span>\n",
      "<ytd-thumbnail-overlay-equalizer class=\"style-scope ytd-thumbnail-overlay-now-playing-renderer\"><!--css-build:shady--><svg class=\"style-scope ytd-thumbnail-overlay-equalizer\" id=\"equalizer\" viewbox=\"0 0 55 95\" xmlns=\"http://www.w3.org/2000/svg\">\n",
      "<g class=\"style-scope ytd-thumbnail-overlay-equalizer\">\n",
      "<rect class=\"bar style-scope ytd-thumbnail-overlay-equalizer\" x=\"0\"></rect>\n",
      "<rect class=\"bar style-scope ytd-thumbnail-overlay-equalizer\" x=\"20\"></rect>\n",
      "<rect class=\"bar style-scope ytd-thumbnail-overlay-equalizer\" x=\"40\"></rect>\n",
      "</g>\n",
      "</svg>\n",
      "</ytd-thumbnail-overlay-equalizer>\n",
      "</ytd-thumbnail-overlay-now-playing-renderer></div>\n",
      "<div class=\"style-scope ytd-thumbnail\" id=\"mouseover-overlay\"></div>\n",
      "<div class=\"style-scope ytd-thumbnail\" id=\"hover-overlays\"></div>\n",
      "</a>, <a aria-hidden=\"true\" class=\"yt-simple-endpoint inline-block style-scope ytd-thumbnail\" href=\"/watch?v=WObRrneLVRY\" id=\"thumbnail\" rel=\"null\" tabindex=\"-1\">\n",
      "<yt-image alt=\"\" class=\"style-scope ytd-thumbnail\" ftl-eligible=\"\" notify-on-loaded=\"\" notify-on-unloaded=\"\"><img alt=\"\" class=\"yt-core-image--fill-parent-height yt-core-image--fill-parent-width yt-core-image yt-core-image--content-mode-scale-aspect-fill yt-core-image--loaded\" src=\"https://i.ytimg.com/vi/WObRrneLVRY/hqdefault.jpg?sqp=-oaymwEcCNACELwBSFXyq4qpAw4IARUAAIhCGAFwAcABBg==&amp;rs=AOn4CLCqLiupYz7LnumRPGXvHnYf4ncbrQ\" style=\"background-color: transparent;\"/></yt-image>\n",
      "<div class=\"style-scope ytd-thumbnail\" id=\"overlays\"><ytd-thumbnail-overlay-time-status-renderer class=\"style-scope ytd-thumbnail\" overlay-style=\"DEFAULT\"><!--css-build:shady--><yt-icon class=\"style-scope ytd-thumbnail-overlay-time-status-renderer\" disable-upgrade=\"\" hidden=\"\" size=\"16\"></yt-icon><span aria-label=\"26 minutes, 54 seconds\" class=\"style-scope ytd-thumbnail-overlay-time-status-renderer\" id=\"text\">\n",
      "  26:54\n",
      "</span></ytd-thumbnail-overlay-time-status-renderer><ytd-thumbnail-overlay-now-playing-renderer class=\"style-scope ytd-thumbnail\"><!--css-build:shady--><span class=\"style-scope ytd-thumbnail-overlay-now-playing-renderer\" id=\"overlay-text\">Now playing</span>\n",
      "<ytd-thumbnail-overlay-equalizer class=\"style-scope ytd-thumbnail-overlay-now-playing-renderer\"><!--css-build:shady--><svg class=\"style-scope ytd-thumbnail-overlay-equalizer\" id=\"equalizer\" viewbox=\"0 0 55 95\" xmlns=\"http://www.w3.org/2000/svg\">\n",
      "<g class=\"style-scope ytd-thumbnail-overlay-equalizer\">\n",
      "<rect class=\"bar style-scope ytd-thumbnail-overlay-equalizer\" x=\"0\"></rect>\n",
      "<rect class=\"bar style-scope ytd-thumbnail-overlay-equalizer\" x=\"20\"></rect>\n",
      "<rect class=\"bar style-scope ytd-thumbnail-overlay-equalizer\" x=\"40\"></rect>\n",
      "</g>\n",
      "</svg>\n",
      "</ytd-thumbnail-overlay-equalizer>\n",
      "</ytd-thumbnail-overlay-now-playing-renderer></div>\n",
      "<div class=\"style-scope ytd-thumbnail\" id=\"mouseover-overlay\"></div>\n",
      "<div class=\"style-scope ytd-thumbnail\" id=\"hover-overlays\"></div>\n",
      "</a>, <a aria-hidden=\"true\" class=\"yt-simple-endpoint inline-block style-scope ytd-thumbnail\" href=\"/watch?v=nX5ONgCdLcc\" id=\"thumbnail\" rel=\"null\" tabindex=\"-1\">\n",
      "<yt-image alt=\"\" class=\"style-scope ytd-thumbnail\" ftl-eligible=\"\" notify-on-loaded=\"\" notify-on-unloaded=\"\"><img alt=\"\" class=\"yt-core-image--fill-parent-height yt-core-image--fill-parent-width yt-core-image yt-core-image--content-mode-scale-aspect-fill yt-core-image--loaded\" src=\"https://i.ytimg.com/vi/nX5ONgCdLcc/hqdefault.jpg?sqp=-oaymwEcCNACELwBSFXyq4qpAw4IARUAAIhCGAFwAcABBg==&amp;rs=AOn4CLBaa_KLfKyYbUYRsb5xf0YCp1YrlQ\" style=\"background-color: transparent;\"/></yt-image>\n",
      "<div class=\"style-scope ytd-thumbnail\" id=\"overlays\"><ytd-thumbnail-overlay-time-status-renderer class=\"style-scope ytd-thumbnail\" overlay-style=\"DEFAULT\"><!--css-build:shady--><yt-icon class=\"style-scope ytd-thumbnail-overlay-time-status-renderer\" disable-upgrade=\"\" hidden=\"\" size=\"16\"></yt-icon><span aria-label=\"39 minutes, 27 seconds\" class=\"style-scope ytd-thumbnail-overlay-time-status-renderer\" id=\"text\">\n",
      "  39:27\n",
      "</span></ytd-thumbnail-overlay-time-status-renderer><ytd-thumbnail-overlay-now-playing-renderer class=\"style-scope ytd-thumbnail\"><!--css-build:shady--><span class=\"style-scope ytd-thumbnail-overlay-now-playing-renderer\" id=\"overlay-text\">Now playing</span>\n",
      "<ytd-thumbnail-overlay-equalizer class=\"style-scope ytd-thumbnail-overlay-now-playing-renderer\"><!--css-build:shady--><svg class=\"style-scope ytd-thumbnail-overlay-equalizer\" id=\"equalizer\" viewbox=\"0 0 55 95\" xmlns=\"http://www.w3.org/2000/svg\">\n",
      "<g class=\"style-scope ytd-thumbnail-overlay-equalizer\">\n",
      "<rect class=\"bar style-scope ytd-thumbnail-overlay-equalizer\" x=\"0\"></rect>\n",
      "<rect class=\"bar style-scope ytd-thumbnail-overlay-equalizer\" x=\"20\"></rect>\n",
      "<rect class=\"bar style-scope ytd-thumbnail-overlay-equalizer\" x=\"40\"></rect>\n",
      "</g>\n",
      "</svg>\n",
      "</ytd-thumbnail-overlay-equalizer>\n",
      "</ytd-thumbnail-overlay-now-playing-renderer></div>\n",
      "<div class=\"style-scope ytd-thumbnail\" id=\"mouseover-overlay\"></div>\n",
      "<div class=\"style-scope ytd-thumbnail\" id=\"hover-overlays\"></div>\n",
      "</a>, <a aria-hidden=\"true\" class=\"yt-simple-endpoint inline-block style-scope ytd-thumbnail\" href=\"/watch?v=AM2Dt7cNebw\" id=\"thumbnail\" rel=\"null\" tabindex=\"-1\">\n",
      "<yt-image alt=\"\" class=\"style-scope ytd-thumbnail\" ftl-eligible=\"\" notify-on-loaded=\"\" notify-on-unloaded=\"\"><img alt=\"\" class=\"yt-core-image--fill-parent-height yt-core-image--fill-parent-width yt-core-image yt-core-image--content-mode-scale-aspect-fill yt-core-image--loaded\" src=\"https://i.ytimg.com/vi/AM2Dt7cNebw/hqdefault.jpg?sqp=-oaymwEcCNACELwBSFXyq4qpAw4IARUAAIhCGAFwAcABBg==&amp;rs=AOn4CLBJHWHabeJ94dcUDlDDNfvQxnUfJg\" style=\"background-color: transparent;\"/></yt-image>\n",
      "<div class=\"style-scope ytd-thumbnail\" id=\"overlays\"><ytd-thumbnail-overlay-time-status-renderer class=\"style-scope ytd-thumbnail\" overlay-style=\"DEFAULT\"><!--css-build:shady--><yt-icon class=\"style-scope ytd-thumbnail-overlay-time-status-renderer\" disable-upgrade=\"\" hidden=\"\" size=\"16\"></yt-icon><span aria-label=\"15 minutes, 15 seconds\" class=\"style-scope ytd-thumbnail-overlay-time-status-renderer\" id=\"text\">\n",
      "  15:15\n",
      "</span></ytd-thumbnail-overlay-time-status-renderer><ytd-thumbnail-overlay-now-playing-renderer class=\"style-scope ytd-thumbnail\"><!--css-build:shady--><span class=\"style-scope ytd-thumbnail-overlay-now-playing-renderer\" id=\"overlay-text\">Now playing</span>\n",
      "<ytd-thumbnail-overlay-equalizer class=\"style-scope ytd-thumbnail-overlay-now-playing-renderer\"><!--css-build:shady--><svg class=\"style-scope ytd-thumbnail-overlay-equalizer\" id=\"equalizer\" viewbox=\"0 0 55 95\" xmlns=\"http://www.w3.org/2000/svg\">\n",
      "<g class=\"style-scope ytd-thumbnail-overlay-equalizer\">\n",
      "<rect class=\"bar style-scope ytd-thumbnail-overlay-equalizer\" x=\"0\"></rect>\n",
      "<rect class=\"bar style-scope ytd-thumbnail-overlay-equalizer\" x=\"20\"></rect>\n",
      "<rect class=\"bar style-scope ytd-thumbnail-overlay-equalizer\" x=\"40\"></rect>\n",
      "</g>\n",
      "</svg>\n",
      "</ytd-thumbnail-overlay-equalizer>\n",
      "</ytd-thumbnail-overlay-now-playing-renderer></div>\n",
      "<div class=\"style-scope ytd-thumbnail\" id=\"mouseover-overlay\"></div>\n",
      "<div class=\"style-scope ytd-thumbnail\" id=\"hover-overlays\"></div>\n",
      "</a>, <a aria-hidden=\"true\" class=\"yt-simple-endpoint inline-block style-scope ytd-thumbnail\" href=\"/watch?v=7nMJVhey9TM\" id=\"thumbnail\" rel=\"null\" tabindex=\"-1\">\n",
      "<yt-image alt=\"\" class=\"style-scope ytd-thumbnail\" ftl-eligible=\"\" notify-on-loaded=\"\" notify-on-unloaded=\"\"><img alt=\"\" class=\"yt-core-image--fill-parent-height yt-core-image--fill-parent-width yt-core-image yt-core-image--content-mode-scale-aspect-fill\" style=\"background-color: transparent;\"/></yt-image>\n",
      "<div class=\"style-scope ytd-thumbnail\" id=\"overlays\"><ytd-thumbnail-overlay-time-status-renderer class=\"style-scope ytd-thumbnail\" overlay-style=\"DEFAULT\"><!--css-build:shady--><yt-icon class=\"style-scope ytd-thumbnail-overlay-time-status-renderer\" disable-upgrade=\"\" hidden=\"\" size=\"16\"></yt-icon><span aria-label=\"16 minutes, 2 seconds\" class=\"style-scope ytd-thumbnail-overlay-time-status-renderer\" id=\"text\">\n",
      "  16:02\n",
      "</span></ytd-thumbnail-overlay-time-status-renderer><ytd-thumbnail-overlay-now-playing-renderer class=\"style-scope ytd-thumbnail\"><!--css-build:shady--><span class=\"style-scope ytd-thumbnail-overlay-now-playing-renderer\" id=\"overlay-text\">Now playing</span>\n",
      "<ytd-thumbnail-overlay-equalizer class=\"style-scope ytd-thumbnail-overlay-now-playing-renderer\"><!--css-build:shady--><svg class=\"style-scope ytd-thumbnail-overlay-equalizer\" id=\"equalizer\" viewbox=\"0 0 55 95\" xmlns=\"http://www.w3.org/2000/svg\">\n",
      "<g class=\"style-scope ytd-thumbnail-overlay-equalizer\">\n",
      "<rect class=\"bar style-scope ytd-thumbnail-overlay-equalizer\" x=\"0\"></rect>\n",
      "<rect class=\"bar style-scope ytd-thumbnail-overlay-equalizer\" x=\"20\"></rect>\n",
      "<rect class=\"bar style-scope ytd-thumbnail-overlay-equalizer\" x=\"40\"></rect>\n",
      "</g>\n",
      "</svg>\n",
      "</ytd-thumbnail-overlay-equalizer>\n",
      "</ytd-thumbnail-overlay-now-playing-renderer></div>\n",
      "<div class=\"style-scope ytd-thumbnail\" id=\"mouseover-overlay\"></div>\n",
      "<div class=\"style-scope ytd-thumbnail\" id=\"hover-overlays\"></div>\n",
      "</a>, <a aria-hidden=\"true\" class=\"yt-simple-endpoint inline-block style-scope ytd-thumbnail\" href=\"/watch?v=FSVVlcFUCMk\" id=\"thumbnail\" rel=\"null\" tabindex=\"-1\">\n",
      "<yt-image alt=\"\" class=\"style-scope ytd-thumbnail\" ftl-eligible=\"\" notify-on-loaded=\"\" notify-on-unloaded=\"\"><img alt=\"\" class=\"yt-core-image--fill-parent-height yt-core-image--fill-parent-width yt-core-image yt-core-image--content-mode-scale-aspect-fill\" style=\"background-color: transparent;\"/></yt-image>\n",
      "<div class=\"style-scope ytd-thumbnail\" id=\"overlays\"><ytd-thumbnail-overlay-time-status-renderer class=\"style-scope ytd-thumbnail\" overlay-style=\"DEFAULT\"><!--css-build:shady--><yt-icon class=\"style-scope ytd-thumbnail-overlay-time-status-renderer\" disable-upgrade=\"\" hidden=\"\" size=\"16\"></yt-icon><span aria-label=\"20 minutes, 38 seconds\" class=\"style-scope ytd-thumbnail-overlay-time-status-renderer\" id=\"text\">\n",
      "  20:38\n",
      "</span></ytd-thumbnail-overlay-time-status-renderer><ytd-thumbnail-overlay-now-playing-renderer class=\"style-scope ytd-thumbnail\"><!--css-build:shady--><span class=\"style-scope ytd-thumbnail-overlay-now-playing-renderer\" id=\"overlay-text\">Now playing</span>\n",
      "<ytd-thumbnail-overlay-equalizer class=\"style-scope ytd-thumbnail-overlay-now-playing-renderer\"><!--css-build:shady--><svg class=\"style-scope ytd-thumbnail-overlay-equalizer\" id=\"equalizer\" viewbox=\"0 0 55 95\" xmlns=\"http://www.w3.org/2000/svg\">\n",
      "<g class=\"style-scope ytd-thumbnail-overlay-equalizer\">\n",
      "<rect class=\"bar style-scope ytd-thumbnail-overlay-equalizer\" x=\"0\"></rect>\n",
      "<rect class=\"bar style-scope ytd-thumbnail-overlay-equalizer\" x=\"20\"></rect>\n",
      "<rect class=\"bar style-scope ytd-thumbnail-overlay-equalizer\" x=\"40\"></rect>\n",
      "</g>\n",
      "</svg>\n",
      "</ytd-thumbnail-overlay-equalizer>\n",
      "</ytd-thumbnail-overlay-now-playing-renderer></div>\n",
      "<div class=\"style-scope ytd-thumbnail\" id=\"mouseover-overlay\"></div>\n",
      "<div class=\"style-scope ytd-thumbnail\" id=\"hover-overlays\"></div>\n",
      "</a>, <a aria-hidden=\"true\" class=\"yt-simple-endpoint inline-block style-scope ytd-thumbnail\" href=\"/watch?v=vKxdTuOirnI\" id=\"thumbnail\" rel=\"null\" tabindex=\"-1\">\n",
      "<yt-image alt=\"\" class=\"style-scope ytd-thumbnail\" ftl-eligible=\"\" notify-on-loaded=\"\" notify-on-unloaded=\"\"><img alt=\"\" class=\"yt-core-image--fill-parent-height yt-core-image--fill-parent-width yt-core-image yt-core-image--content-mode-scale-aspect-fill\" style=\"background-color: transparent;\"/></yt-image>\n",
      "<div class=\"style-scope ytd-thumbnail\" id=\"overlays\"><ytd-thumbnail-overlay-time-status-renderer class=\"style-scope ytd-thumbnail\" overlay-style=\"DEFAULT\"><!--css-build:shady--><yt-icon class=\"style-scope ytd-thumbnail-overlay-time-status-renderer\" disable-upgrade=\"\" hidden=\"\" size=\"16\"></yt-icon><span aria-label=\"26 minutes, 43 seconds\" class=\"style-scope ytd-thumbnail-overlay-time-status-renderer\" id=\"text\">\n",
      "  26:43\n",
      "</span></ytd-thumbnail-overlay-time-status-renderer><ytd-thumbnail-overlay-now-playing-renderer class=\"style-scope ytd-thumbnail\"><!--css-build:shady--><span class=\"style-scope ytd-thumbnail-overlay-now-playing-renderer\" id=\"overlay-text\">Now playing</span>\n",
      "<ytd-thumbnail-overlay-equalizer class=\"style-scope ytd-thumbnail-overlay-now-playing-renderer\"><!--css-build:shady--><svg class=\"style-scope ytd-thumbnail-overlay-equalizer\" id=\"equalizer\" viewbox=\"0 0 55 95\" xmlns=\"http://www.w3.org/2000/svg\">\n",
      "<g class=\"style-scope ytd-thumbnail-overlay-equalizer\">\n",
      "<rect class=\"bar style-scope ytd-thumbnail-overlay-equalizer\" x=\"0\"></rect>\n",
      "<rect class=\"bar style-scope ytd-thumbnail-overlay-equalizer\" x=\"20\"></rect>\n",
      "<rect class=\"bar style-scope ytd-thumbnail-overlay-equalizer\" x=\"40\"></rect>\n",
      "</g>\n",
      "</svg>\n",
      "</ytd-thumbnail-overlay-equalizer>\n",
      "</ytd-thumbnail-overlay-now-playing-renderer></div>\n",
      "<div class=\"style-scope ytd-thumbnail\" id=\"mouseover-overlay\"></div>\n",
      "<div class=\"style-scope ytd-thumbnail\" id=\"hover-overlays\"></div>\n",
      "</a>, <a aria-hidden=\"true\" class=\"yt-simple-endpoint inline-block style-scope ytd-thumbnail\" href=\"/watch?v=hC86u4g6QPk\" id=\"thumbnail\" rel=\"null\" tabindex=\"-1\">\n",
      "<yt-image alt=\"\" class=\"style-scope ytd-thumbnail\" ftl-eligible=\"\" notify-on-loaded=\"\" notify-on-unloaded=\"\"><img alt=\"\" class=\"yt-core-image--fill-parent-height yt-core-image--fill-parent-width yt-core-image yt-core-image--content-mode-scale-aspect-fill\" style=\"background-color: transparent;\"/></yt-image>\n",
      "<div class=\"style-scope ytd-thumbnail\" id=\"overlays\"><ytd-thumbnail-overlay-time-status-renderer class=\"style-scope ytd-thumbnail\" overlay-style=\"DEFAULT\"><!--css-build:shady--><yt-icon class=\"style-scope ytd-thumbnail-overlay-time-status-renderer\" disable-upgrade=\"\" hidden=\"\" size=\"16\"></yt-icon><span aria-label=\"19 minutes, 43 seconds\" class=\"style-scope ytd-thumbnail-overlay-time-status-renderer\" id=\"text\">\n",
      "  19:43\n",
      "</span></ytd-thumbnail-overlay-time-status-renderer><ytd-thumbnail-overlay-now-playing-renderer class=\"style-scope ytd-thumbnail\"><!--css-build:shady--><span class=\"style-scope ytd-thumbnail-overlay-now-playing-renderer\" id=\"overlay-text\">Now playing</span>\n",
      "<ytd-thumbnail-overlay-equalizer class=\"style-scope ytd-thumbnail-overlay-now-playing-renderer\"><!--css-build:shady--><svg class=\"style-scope ytd-thumbnail-overlay-equalizer\" id=\"equalizer\" viewbox=\"0 0 55 95\" xmlns=\"http://www.w3.org/2000/svg\">\n",
      "<g class=\"style-scope ytd-thumbnail-overlay-equalizer\">\n",
      "<rect class=\"bar style-scope ytd-thumbnail-overlay-equalizer\" x=\"0\"></rect>\n",
      "<rect class=\"bar style-scope ytd-thumbnail-overlay-equalizer\" x=\"20\"></rect>\n",
      "<rect class=\"bar style-scope ytd-thumbnail-overlay-equalizer\" x=\"40\"></rect>\n",
      "</g>\n",
      "</svg>\n",
      "</ytd-thumbnail-overlay-equalizer>\n",
      "</ytd-thumbnail-overlay-now-playing-renderer></div>\n",
      "<div class=\"style-scope ytd-thumbnail\" id=\"mouseover-overlay\"></div>\n",
      "<div class=\"style-scope ytd-thumbnail\" id=\"hover-overlays\"></div>\n",
      "</a>, <a aria-hidden=\"true\" class=\"yt-simple-endpoint inline-block style-scope ytd-thumbnail\" href=\"/watch?v=7O5MY8Y1JCE\" id=\"thumbnail\" rel=\"null\" tabindex=\"-1\">\n",
      "<yt-image alt=\"\" class=\"style-scope ytd-thumbnail\" ftl-eligible=\"\" notify-on-loaded=\"\" notify-on-unloaded=\"\"><img alt=\"\" class=\"yt-core-image--fill-parent-height yt-core-image--fill-parent-width yt-core-image yt-core-image--content-mode-scale-aspect-fill\" style=\"background-color: transparent;\"/></yt-image>\n",
      "<div class=\"style-scope ytd-thumbnail\" id=\"overlays\"><ytd-thumbnail-overlay-time-status-renderer class=\"style-scope ytd-thumbnail\" overlay-style=\"DEFAULT\"><!--css-build:shady--><yt-icon class=\"style-scope ytd-thumbnail-overlay-time-status-renderer\" disable-upgrade=\"\" hidden=\"\" size=\"16\"></yt-icon><span aria-label=\"20 minutes, 3 seconds\" class=\"style-scope ytd-thumbnail-overlay-time-status-renderer\" id=\"text\">\n",
      "  20:03\n",
      "</span></ytd-thumbnail-overlay-time-status-renderer><ytd-thumbnail-overlay-now-playing-renderer class=\"style-scope ytd-thumbnail\"><!--css-build:shady--><span class=\"style-scope ytd-thumbnail-overlay-now-playing-renderer\" id=\"overlay-text\">Now playing</span>\n",
      "<ytd-thumbnail-overlay-equalizer class=\"style-scope ytd-thumbnail-overlay-now-playing-renderer\"><!--css-build:shady--><svg class=\"style-scope ytd-thumbnail-overlay-equalizer\" id=\"equalizer\" viewbox=\"0 0 55 95\" xmlns=\"http://www.w3.org/2000/svg\">\n",
      "<g class=\"style-scope ytd-thumbnail-overlay-equalizer\">\n",
      "<rect class=\"bar style-scope ytd-thumbnail-overlay-equalizer\" x=\"0\"></rect>\n",
      "<rect class=\"bar style-scope ytd-thumbnail-overlay-equalizer\" x=\"20\"></rect>\n",
      "<rect class=\"bar style-scope ytd-thumbnail-overlay-equalizer\" x=\"40\"></rect>\n",
      "</g>\n",
      "</svg>\n",
      "</ytd-thumbnail-overlay-equalizer>\n",
      "</ytd-thumbnail-overlay-now-playing-renderer></div>\n",
      "<div class=\"style-scope ytd-thumbnail\" id=\"mouseover-overlay\"></div>\n",
      "<div class=\"style-scope ytd-thumbnail\" id=\"hover-overlays\"></div>\n",
      "</a>, <a aria-hidden=\"true\" class=\"yt-simple-endpoint inline-block style-scope ytd-thumbnail\" href=\"/watch?v=01iTPgZGjvM\" id=\"thumbnail\" rel=\"null\" tabindex=\"-1\">\n",
      "<yt-image alt=\"\" class=\"style-scope ytd-thumbnail\" ftl-eligible=\"\" notify-on-loaded=\"\" notify-on-unloaded=\"\"><img alt=\"\" class=\"yt-core-image--fill-parent-height yt-core-image--fill-parent-width yt-core-image yt-core-image--content-mode-scale-aspect-fill\" style=\"background-color: transparent;\"/></yt-image>\n",
      "<div class=\"style-scope ytd-thumbnail\" id=\"overlays\"><ytd-thumbnail-overlay-time-status-renderer class=\"style-scope ytd-thumbnail\" overlay-style=\"DEFAULT\"><!--css-build:shady--><yt-icon class=\"style-scope ytd-thumbnail-overlay-time-status-renderer\" disable-upgrade=\"\" hidden=\"\" size=\"16\"></yt-icon><span aria-label=\"1 hour, 37 minutes, 56 seconds\" class=\"style-scope ytd-thumbnail-overlay-time-status-renderer\" id=\"text\">\n",
      "  1:37:56\n",
      "</span></ytd-thumbnail-overlay-time-status-renderer><ytd-thumbnail-overlay-now-playing-renderer class=\"style-scope ytd-thumbnail\"><!--css-build:shady--><span class=\"style-scope ytd-thumbnail-overlay-now-playing-renderer\" id=\"overlay-text\">Now playing</span>\n",
      "<ytd-thumbnail-overlay-equalizer class=\"style-scope ytd-thumbnail-overlay-now-playing-renderer\"><!--css-build:shady--><svg class=\"style-scope ytd-thumbnail-overlay-equalizer\" id=\"equalizer\" viewbox=\"0 0 55 95\" xmlns=\"http://www.w3.org/2000/svg\">\n",
      "<g class=\"style-scope ytd-thumbnail-overlay-equalizer\">\n",
      "<rect class=\"bar style-scope ytd-thumbnail-overlay-equalizer\" x=\"0\"></rect>\n",
      "<rect class=\"bar style-scope ytd-thumbnail-overlay-equalizer\" x=\"20\"></rect>\n",
      "<rect class=\"bar style-scope ytd-thumbnail-overlay-equalizer\" x=\"40\"></rect>\n",
      "</g>\n",
      "</svg>\n",
      "</ytd-thumbnail-overlay-equalizer>\n",
      "</ytd-thumbnail-overlay-now-playing-renderer></div>\n",
      "<div class=\"style-scope ytd-thumbnail\" id=\"mouseover-overlay\"></div>\n",
      "<div class=\"style-scope ytd-thumbnail\" id=\"hover-overlays\"></div>\n",
      "</a>, <a aria-hidden=\"true\" class=\"yt-simple-endpoint inline-block style-scope ytd-thumbnail\" href=\"/watch?v=pXjLbNAa_ag\" id=\"thumbnail\" rel=\"null\" tabindex=\"-1\">\n",
      "<yt-image alt=\"\" class=\"style-scope ytd-thumbnail\" ftl-eligible=\"\" notify-on-loaded=\"\" notify-on-unloaded=\"\"><img alt=\"\" class=\"yt-core-image--fill-parent-height yt-core-image--fill-parent-width yt-core-image yt-core-image--content-mode-scale-aspect-fill\" style=\"background-color: transparent;\"/></yt-image>\n",
      "<div class=\"style-scope ytd-thumbnail\" id=\"overlays\"><ytd-thumbnail-overlay-time-status-renderer class=\"style-scope ytd-thumbnail\" overlay-style=\"DEFAULT\"><!--css-build:shady--><yt-icon class=\"style-scope ytd-thumbnail-overlay-time-status-renderer\" disable-upgrade=\"\" hidden=\"\" size=\"16\"></yt-icon><span aria-label=\"1 hour, 42 minutes, 57 seconds\" class=\"style-scope ytd-thumbnail-overlay-time-status-renderer\" id=\"text\">\n",
      "  1:42:57\n",
      "</span></ytd-thumbnail-overlay-time-status-renderer><ytd-thumbnail-overlay-now-playing-renderer class=\"style-scope ytd-thumbnail\"><!--css-build:shady--><span class=\"style-scope ytd-thumbnail-overlay-now-playing-renderer\" id=\"overlay-text\">Now playing</span>\n",
      "<ytd-thumbnail-overlay-equalizer class=\"style-scope ytd-thumbnail-overlay-now-playing-renderer\"><!--css-build:shady--><svg class=\"style-scope ytd-thumbnail-overlay-equalizer\" id=\"equalizer\" viewbox=\"0 0 55 95\" xmlns=\"http://www.w3.org/2000/svg\">\n",
      "<g class=\"style-scope ytd-thumbnail-overlay-equalizer\">\n",
      "<rect class=\"bar style-scope ytd-thumbnail-overlay-equalizer\" x=\"0\"></rect>\n",
      "<rect class=\"bar style-scope ytd-thumbnail-overlay-equalizer\" x=\"20\"></rect>\n",
      "<rect class=\"bar style-scope ytd-thumbnail-overlay-equalizer\" x=\"40\"></rect>\n",
      "</g>\n",
      "</svg>\n",
      "</ytd-thumbnail-overlay-equalizer>\n",
      "</ytd-thumbnail-overlay-now-playing-renderer></div>\n",
      "<div class=\"style-scope ytd-thumbnail\" id=\"mouseover-overlay\"></div>\n",
      "<div class=\"style-scope ytd-thumbnail\" id=\"hover-overlays\"></div>\n",
      "</a>, <a aria-hidden=\"true\" class=\"yt-simple-endpoint inline-block style-scope ytd-thumbnail\" href=\"/watch?v=-abURVi907g\" id=\"thumbnail\" rel=\"null\" tabindex=\"-1\">\n",
      "<yt-image alt=\"\" class=\"style-scope ytd-thumbnail\" ftl-eligible=\"\" notify-on-loaded=\"\" notify-on-unloaded=\"\"><img alt=\"\" class=\"yt-core-image--fill-parent-height yt-core-image--fill-parent-width yt-core-image yt-core-image--content-mode-scale-aspect-fill\" style=\"background-color: transparent;\"/></yt-image>\n",
      "<div class=\"style-scope ytd-thumbnail\" id=\"overlays\"><ytd-thumbnail-overlay-time-status-renderer class=\"style-scope ytd-thumbnail\" overlay-style=\"DEFAULT\"><!--css-build:shady--><yt-icon class=\"style-scope ytd-thumbnail-overlay-time-status-renderer\" disable-upgrade=\"\" hidden=\"\" size=\"16\"></yt-icon><span aria-label=\"1 hour, 12 minutes, 9 seconds\" class=\"style-scope ytd-thumbnail-overlay-time-status-renderer\" id=\"text\">\n",
      "  1:12:09\n",
      "</span></ytd-thumbnail-overlay-time-status-renderer><ytd-thumbnail-overlay-now-playing-renderer class=\"style-scope ytd-thumbnail\"><!--css-build:shady--><span class=\"style-scope ytd-thumbnail-overlay-now-playing-renderer\" id=\"overlay-text\">Now playing</span>\n",
      "<ytd-thumbnail-overlay-equalizer class=\"style-scope ytd-thumbnail-overlay-now-playing-renderer\"><!--css-build:shady--><svg class=\"style-scope ytd-thumbnail-overlay-equalizer\" id=\"equalizer\" viewbox=\"0 0 55 95\" xmlns=\"http://www.w3.org/2000/svg\">\n",
      "<g class=\"style-scope ytd-thumbnail-overlay-equalizer\">\n",
      "<rect class=\"bar style-scope ytd-thumbnail-overlay-equalizer\" x=\"0\"></rect>\n",
      "<rect class=\"bar style-scope ytd-thumbnail-overlay-equalizer\" x=\"20\"></rect>\n",
      "<rect class=\"bar style-scope ytd-thumbnail-overlay-equalizer\" x=\"40\"></rect>\n",
      "</g>\n",
      "</svg>\n",
      "</ytd-thumbnail-overlay-equalizer>\n",
      "</ytd-thumbnail-overlay-now-playing-renderer></div>\n",
      "<div class=\"style-scope ytd-thumbnail\" id=\"mouseover-overlay\"></div>\n",
      "<div class=\"style-scope ytd-thumbnail\" id=\"hover-overlays\"></div>\n",
      "</a>, <a aria-hidden=\"true\" class=\"yt-simple-endpoint inline-block style-scope ytd-thumbnail\" href=\"/watch?v=LAsPxV5xZ58\" id=\"thumbnail\" rel=\"null\" tabindex=\"-1\">\n",
      "<yt-image alt=\"\" class=\"style-scope ytd-thumbnail\" ftl-eligible=\"\" notify-on-loaded=\"\" notify-on-unloaded=\"\"><img alt=\"\" class=\"yt-core-image--fill-parent-height yt-core-image--fill-parent-width yt-core-image yt-core-image--content-mode-scale-aspect-fill\" style=\"background-color: transparent;\"/></yt-image>\n",
      "<div class=\"style-scope ytd-thumbnail\" id=\"overlays\"><ytd-thumbnail-overlay-time-status-renderer class=\"style-scope ytd-thumbnail\" overlay-style=\"DEFAULT\"><!--css-build:shady--><yt-icon class=\"style-scope ytd-thumbnail-overlay-time-status-renderer\" disable-upgrade=\"\" hidden=\"\" size=\"16\"></yt-icon><span aria-label=\"24 minutes, 6 seconds\" class=\"style-scope ytd-thumbnail-overlay-time-status-renderer\" id=\"text\">\n",
      "  24:06\n",
      "</span></ytd-thumbnail-overlay-time-status-renderer><ytd-thumbnail-overlay-now-playing-renderer class=\"style-scope ytd-thumbnail\"><!--css-build:shady--><span class=\"style-scope ytd-thumbnail-overlay-now-playing-renderer\" id=\"overlay-text\">Now playing</span>\n",
      "<ytd-thumbnail-overlay-equalizer class=\"style-scope ytd-thumbnail-overlay-now-playing-renderer\"><!--css-build:shady--><svg class=\"style-scope ytd-thumbnail-overlay-equalizer\" id=\"equalizer\" viewbox=\"0 0 55 95\" xmlns=\"http://www.w3.org/2000/svg\">\n",
      "<g class=\"style-scope ytd-thumbnail-overlay-equalizer\">\n",
      "<rect class=\"bar style-scope ytd-thumbnail-overlay-equalizer\" x=\"0\"></rect>\n",
      "<rect class=\"bar style-scope ytd-thumbnail-overlay-equalizer\" x=\"20\"></rect>\n",
      "<rect class=\"bar style-scope ytd-thumbnail-overlay-equalizer\" x=\"40\"></rect>\n",
      "</g>\n",
      "</svg>\n",
      "</ytd-thumbnail-overlay-equalizer>\n",
      "</ytd-thumbnail-overlay-now-playing-renderer></div>\n",
      "<div class=\"style-scope ytd-thumbnail\" id=\"mouseover-overlay\"></div>\n",
      "<div class=\"style-scope ytd-thumbnail\" id=\"hover-overlays\"></div>\n",
      "</a>, <a aria-hidden=\"true\" class=\"yt-simple-endpoint inline-block style-scope ytd-thumbnail\" href=\"/watch?v=-Z-lZKDIW4w\" id=\"thumbnail\" rel=\"null\" tabindex=\"-1\">\n",
      "<yt-image alt=\"\" class=\"style-scope ytd-thumbnail\" ftl-eligible=\"\" notify-on-loaded=\"\" notify-on-unloaded=\"\"><img alt=\"\" class=\"yt-core-image--fill-parent-height yt-core-image--fill-parent-width yt-core-image yt-core-image--content-mode-scale-aspect-fill\" style=\"background-color: transparent;\"/></yt-image>\n",
      "<div class=\"style-scope ytd-thumbnail\" id=\"overlays\"><ytd-thumbnail-overlay-time-status-renderer class=\"style-scope ytd-thumbnail\" overlay-style=\"DEFAULT\"><!--css-build:shady--><yt-icon class=\"style-scope ytd-thumbnail-overlay-time-status-renderer\" disable-upgrade=\"\" hidden=\"\" size=\"16\"></yt-icon><span aria-label=\"1 hour, 20 minutes, 13 seconds\" class=\"style-scope ytd-thumbnail-overlay-time-status-renderer\" id=\"text\">\n",
      "  1:20:13\n",
      "</span></ytd-thumbnail-overlay-time-status-renderer><ytd-thumbnail-overlay-now-playing-renderer class=\"style-scope ytd-thumbnail\"><!--css-build:shady--><span class=\"style-scope ytd-thumbnail-overlay-now-playing-renderer\" id=\"overlay-text\">Now playing</span>\n",
      "<ytd-thumbnail-overlay-equalizer class=\"style-scope ytd-thumbnail-overlay-now-playing-renderer\"><!--css-build:shady--><svg class=\"style-scope ytd-thumbnail-overlay-equalizer\" id=\"equalizer\" viewbox=\"0 0 55 95\" xmlns=\"http://www.w3.org/2000/svg\">\n",
      "<g class=\"style-scope ytd-thumbnail-overlay-equalizer\">\n",
      "<rect class=\"bar style-scope ytd-thumbnail-overlay-equalizer\" x=\"0\"></rect>\n",
      "<rect class=\"bar style-scope ytd-thumbnail-overlay-equalizer\" x=\"20\"></rect>\n",
      "<rect class=\"bar style-scope ytd-thumbnail-overlay-equalizer\" x=\"40\"></rect>\n",
      "</g>\n",
      "</svg>\n",
      "</ytd-thumbnail-overlay-equalizer>\n",
      "</ytd-thumbnail-overlay-now-playing-renderer></div>\n",
      "<div class=\"style-scope ytd-thumbnail\" id=\"mouseover-overlay\"></div>\n",
      "<div class=\"style-scope ytd-thumbnail\" id=\"hover-overlays\"></div>\n",
      "</a>, <a aria-hidden=\"true\" class=\"yt-simple-endpoint inline-block style-scope ytd-thumbnail\" href=\"/watch?v=Gqza6yHk1Ks\" id=\"thumbnail\" rel=\"null\" tabindex=\"-1\">\n",
      "<yt-image alt=\"\" class=\"style-scope ytd-thumbnail\" ftl-eligible=\"\" notify-on-loaded=\"\" notify-on-unloaded=\"\"><img alt=\"\" class=\"yt-core-image--fill-parent-height yt-core-image--fill-parent-width yt-core-image yt-core-image--content-mode-scale-aspect-fill\" style=\"background-color: transparent;\"/></yt-image>\n",
      "<div class=\"style-scope ytd-thumbnail\" id=\"overlays\"><ytd-thumbnail-overlay-time-status-renderer class=\"style-scope ytd-thumbnail\" overlay-style=\"DEFAULT\"><!--css-build:shady--><yt-icon class=\"style-scope ytd-thumbnail-overlay-time-status-renderer\" disable-upgrade=\"\" hidden=\"\" size=\"16\"></yt-icon><span aria-label=\"17 minutes, 11 seconds\" class=\"style-scope ytd-thumbnail-overlay-time-status-renderer\" id=\"text\">\n",
      "  17:11\n",
      "</span></ytd-thumbnail-overlay-time-status-renderer><ytd-thumbnail-overlay-now-playing-renderer class=\"style-scope ytd-thumbnail\"><!--css-build:shady--><span class=\"style-scope ytd-thumbnail-overlay-now-playing-renderer\" id=\"overlay-text\">Now playing</span>\n",
      "<ytd-thumbnail-overlay-equalizer class=\"style-scope ytd-thumbnail-overlay-now-playing-renderer\"><!--css-build:shady--><svg class=\"style-scope ytd-thumbnail-overlay-equalizer\" id=\"equalizer\" viewbox=\"0 0 55 95\" xmlns=\"http://www.w3.org/2000/svg\">\n",
      "<g class=\"style-scope ytd-thumbnail-overlay-equalizer\">\n",
      "<rect class=\"bar style-scope ytd-thumbnail-overlay-equalizer\" x=\"0\"></rect>\n",
      "<rect class=\"bar style-scope ytd-thumbnail-overlay-equalizer\" x=\"20\"></rect>\n",
      "<rect class=\"bar style-scope ytd-thumbnail-overlay-equalizer\" x=\"40\"></rect>\n",
      "</g>\n",
      "</svg>\n",
      "</ytd-thumbnail-overlay-equalizer>\n",
      "</ytd-thumbnail-overlay-now-playing-renderer></div>\n",
      "<div class=\"style-scope ytd-thumbnail\" id=\"mouseover-overlay\"></div>\n",
      "<div class=\"style-scope ytd-thumbnail\" id=\"hover-overlays\"></div>\n",
      "</a>, <a aria-hidden=\"true\" class=\"yt-simple-endpoint inline-block style-scope ytd-thumbnail\" href=\"/watch?v=BdBQ2yfCW1g\" id=\"thumbnail\" rel=\"null\" tabindex=\"-1\">\n",
      "<yt-image alt=\"\" class=\"style-scope ytd-thumbnail\" ftl-eligible=\"\" notify-on-loaded=\"\" notify-on-unloaded=\"\"><img alt=\"\" class=\"yt-core-image--fill-parent-height yt-core-image--fill-parent-width yt-core-image yt-core-image--content-mode-scale-aspect-fill\" style=\"background-color: transparent;\"/></yt-image>\n",
      "<div class=\"style-scope ytd-thumbnail\" id=\"overlays\"><ytd-thumbnail-overlay-time-status-renderer class=\"style-scope ytd-thumbnail\" overlay-style=\"DEFAULT\"><!--css-build:shady--><yt-icon class=\"style-scope ytd-thumbnail-overlay-time-status-renderer\" disable-upgrade=\"\" hidden=\"\" size=\"16\"></yt-icon><span aria-label=\"23 minutes, 50 seconds\" class=\"style-scope ytd-thumbnail-overlay-time-status-renderer\" id=\"text\">\n",
      "  23:50\n",
      "</span></ytd-thumbnail-overlay-time-status-renderer><ytd-thumbnail-overlay-now-playing-renderer class=\"style-scope ytd-thumbnail\"><!--css-build:shady--><span class=\"style-scope ytd-thumbnail-overlay-now-playing-renderer\" id=\"overlay-text\">Now playing</span>\n",
      "<ytd-thumbnail-overlay-equalizer class=\"style-scope ytd-thumbnail-overlay-now-playing-renderer\"><!--css-build:shady--><svg class=\"style-scope ytd-thumbnail-overlay-equalizer\" id=\"equalizer\" viewbox=\"0 0 55 95\" xmlns=\"http://www.w3.org/2000/svg\">\n",
      "<g class=\"style-scope ytd-thumbnail-overlay-equalizer\">\n",
      "<rect class=\"bar style-scope ytd-thumbnail-overlay-equalizer\" x=\"0\"></rect>\n",
      "<rect class=\"bar style-scope ytd-thumbnail-overlay-equalizer\" x=\"20\"></rect>\n",
      "<rect class=\"bar style-scope ytd-thumbnail-overlay-equalizer\" x=\"40\"></rect>\n",
      "</g>\n",
      "</svg>\n",
      "</ytd-thumbnail-overlay-equalizer>\n",
      "</ytd-thumbnail-overlay-now-playing-renderer></div>\n",
      "<div class=\"style-scope ytd-thumbnail\" id=\"mouseover-overlay\"></div>\n",
      "<div class=\"style-scope ytd-thumbnail\" id=\"hover-overlays\"></div>\n",
      "</a>, <a aria-hidden=\"true\" class=\"yt-simple-endpoint inline-block style-scope ytd-thumbnail\" href=\"/watch?v=Mdn3H8V-lKs\" id=\"thumbnail\" rel=\"null\" tabindex=\"-1\">\n",
      "<yt-image alt=\"\" class=\"style-scope ytd-thumbnail\" ftl-eligible=\"\" notify-on-loaded=\"\" notify-on-unloaded=\"\"><img alt=\"\" class=\"yt-core-image--fill-parent-height yt-core-image--fill-parent-width yt-core-image yt-core-image--content-mode-scale-aspect-fill\" style=\"background-color: transparent;\"/></yt-image>\n",
      "<div class=\"style-scope ytd-thumbnail\" id=\"overlays\"><ytd-thumbnail-overlay-time-status-renderer class=\"style-scope ytd-thumbnail\" overlay-style=\"DEFAULT\"><!--css-build:shady--><yt-icon class=\"style-scope ytd-thumbnail-overlay-time-status-renderer\" disable-upgrade=\"\" hidden=\"\" size=\"16\"></yt-icon><span aria-label=\"29 minutes, 43 seconds\" class=\"style-scope ytd-thumbnail-overlay-time-status-renderer\" id=\"text\">\n",
      "  29:43\n",
      "</span></ytd-thumbnail-overlay-time-status-renderer><ytd-thumbnail-overlay-now-playing-renderer class=\"style-scope ytd-thumbnail\"><!--css-build:shady--><span class=\"style-scope ytd-thumbnail-overlay-now-playing-renderer\" id=\"overlay-text\">Now playing</span>\n",
      "<ytd-thumbnail-overlay-equalizer class=\"style-scope ytd-thumbnail-overlay-now-playing-renderer\"><!--css-build:shady--><svg class=\"style-scope ytd-thumbnail-overlay-equalizer\" id=\"equalizer\" viewbox=\"0 0 55 95\" xmlns=\"http://www.w3.org/2000/svg\">\n",
      "<g class=\"style-scope ytd-thumbnail-overlay-equalizer\">\n",
      "<rect class=\"bar style-scope ytd-thumbnail-overlay-equalizer\" x=\"0\"></rect>\n",
      "<rect class=\"bar style-scope ytd-thumbnail-overlay-equalizer\" x=\"20\"></rect>\n",
      "<rect class=\"bar style-scope ytd-thumbnail-overlay-equalizer\" x=\"40\"></rect>\n",
      "</g>\n",
      "</svg>\n",
      "</ytd-thumbnail-overlay-equalizer>\n",
      "</ytd-thumbnail-overlay-now-playing-renderer></div>\n",
      "<div class=\"style-scope ytd-thumbnail\" id=\"mouseover-overlay\"></div>\n",
      "<div class=\"style-scope ytd-thumbnail\" id=\"hover-overlays\"></div>\n",
      "</a>, <a aria-hidden=\"true\" class=\"yt-simple-endpoint inline-block style-scope ytd-thumbnail\" href=\"/watch?v=FKX5gq9L8do\" id=\"thumbnail\" rel=\"null\" tabindex=\"-1\">\n",
      "<yt-image alt=\"\" class=\"style-scope ytd-thumbnail\" ftl-eligible=\"\" notify-on-loaded=\"\" notify-on-unloaded=\"\"><img alt=\"\" class=\"yt-core-image--fill-parent-height yt-core-image--fill-parent-width yt-core-image yt-core-image--content-mode-scale-aspect-fill\" style=\"background-color: transparent;\"/></yt-image>\n",
      "<div class=\"style-scope ytd-thumbnail\" id=\"overlays\"><ytd-thumbnail-overlay-time-status-renderer class=\"style-scope ytd-thumbnail\" overlay-style=\"DEFAULT\"><!--css-build:shady--><yt-icon class=\"style-scope ytd-thumbnail-overlay-time-status-renderer\" disable-upgrade=\"\" hidden=\"\" size=\"16\"></yt-icon><span aria-label=\"32 minutes, 29 seconds\" class=\"style-scope ytd-thumbnail-overlay-time-status-renderer\" id=\"text\">\n",
      "  32:29\n",
      "</span></ytd-thumbnail-overlay-time-status-renderer><ytd-thumbnail-overlay-now-playing-renderer class=\"style-scope ytd-thumbnail\"><!--css-build:shady--><span class=\"style-scope ytd-thumbnail-overlay-now-playing-renderer\" id=\"overlay-text\">Now playing</span>\n",
      "<ytd-thumbnail-overlay-equalizer class=\"style-scope ytd-thumbnail-overlay-now-playing-renderer\"><!--css-build:shady--><svg class=\"style-scope ytd-thumbnail-overlay-equalizer\" id=\"equalizer\" viewbox=\"0 0 55 95\" xmlns=\"http://www.w3.org/2000/svg\">\n",
      "<g class=\"style-scope ytd-thumbnail-overlay-equalizer\">\n",
      "<rect class=\"bar style-scope ytd-thumbnail-overlay-equalizer\" x=\"0\"></rect>\n",
      "<rect class=\"bar style-scope ytd-thumbnail-overlay-equalizer\" x=\"20\"></rect>\n",
      "<rect class=\"bar style-scope ytd-thumbnail-overlay-equalizer\" x=\"40\"></rect>\n",
      "</g>\n",
      "</svg>\n",
      "</ytd-thumbnail-overlay-equalizer>\n",
      "</ytd-thumbnail-overlay-now-playing-renderer></div>\n",
      "<div class=\"style-scope ytd-thumbnail\" id=\"mouseover-overlay\"></div>\n",
      "<div class=\"style-scope ytd-thumbnail\" id=\"hover-overlays\"></div>\n",
      "</a>, <a aria-hidden=\"true\" class=\"yt-simple-endpoint inline-block style-scope ytd-thumbnail\" href=\"/watch?v=5-h-Td7ScFA\" id=\"thumbnail\" rel=\"null\" tabindex=\"-1\">\n",
      "<yt-image alt=\"\" class=\"style-scope ytd-thumbnail\" ftl-eligible=\"\" notify-on-loaded=\"\" notify-on-unloaded=\"\"><img alt=\"\" class=\"yt-core-image--fill-parent-height yt-core-image--fill-parent-width yt-core-image yt-core-image--content-mode-scale-aspect-fill\" style=\"background-color: transparent;\"/></yt-image>\n",
      "<div class=\"style-scope ytd-thumbnail\" id=\"overlays\"><ytd-thumbnail-overlay-time-status-renderer class=\"style-scope ytd-thumbnail\" overlay-style=\"DEFAULT\"><!--css-build:shady--><yt-icon class=\"style-scope ytd-thumbnail-overlay-time-status-renderer\" disable-upgrade=\"\" hidden=\"\" size=\"16\"></yt-icon><span aria-label=\"50 minutes, 34 seconds\" class=\"style-scope ytd-thumbnail-overlay-time-status-renderer\" id=\"text\">\n",
      "  50:34\n",
      "</span></ytd-thumbnail-overlay-time-status-renderer><ytd-thumbnail-overlay-now-playing-renderer class=\"style-scope ytd-thumbnail\"><!--css-build:shady--><span class=\"style-scope ytd-thumbnail-overlay-now-playing-renderer\" id=\"overlay-text\">Now playing</span>\n",
      "<ytd-thumbnail-overlay-equalizer class=\"style-scope ytd-thumbnail-overlay-now-playing-renderer\"><!--css-build:shady--><svg class=\"style-scope ytd-thumbnail-overlay-equalizer\" id=\"equalizer\" viewbox=\"0 0 55 95\" xmlns=\"http://www.w3.org/2000/svg\">\n",
      "<g class=\"style-scope ytd-thumbnail-overlay-equalizer\">\n",
      "<rect class=\"bar style-scope ytd-thumbnail-overlay-equalizer\" x=\"0\"></rect>\n",
      "<rect class=\"bar style-scope ytd-thumbnail-overlay-equalizer\" x=\"20\"></rect>\n",
      "<rect class=\"bar style-scope ytd-thumbnail-overlay-equalizer\" x=\"40\"></rect>\n",
      "</g>\n",
      "</svg>\n",
      "</ytd-thumbnail-overlay-equalizer>\n",
      "</ytd-thumbnail-overlay-now-playing-renderer></div>\n",
      "<div class=\"style-scope ytd-thumbnail\" id=\"mouseover-overlay\"></div>\n",
      "<div class=\"style-scope ytd-thumbnail\" id=\"hover-overlays\"></div>\n",
      "</a>, <a aria-hidden=\"true\" class=\"yt-simple-endpoint inline-block style-scope ytd-thumbnail\" href=\"/watch?v=Q2tChfJPJ2I\" id=\"thumbnail\" rel=\"null\" tabindex=\"-1\">\n",
      "<yt-image alt=\"\" class=\"style-scope ytd-thumbnail\" ftl-eligible=\"\" notify-on-loaded=\"\" notify-on-unloaded=\"\"><img alt=\"\" class=\"yt-core-image--fill-parent-height yt-core-image--fill-parent-width yt-core-image yt-core-image--content-mode-scale-aspect-fill\" style=\"background-color: transparent;\"/></yt-image>\n",
      "<div class=\"style-scope ytd-thumbnail\" id=\"overlays\"><ytd-thumbnail-overlay-time-status-renderer class=\"style-scope ytd-thumbnail\" overlay-style=\"DEFAULT\"><!--css-build:shady--><yt-icon class=\"style-scope ytd-thumbnail-overlay-time-status-renderer\" disable-upgrade=\"\" hidden=\"\" size=\"16\"></yt-icon><span aria-label=\"1 hour, 28 minutes, 6 seconds\" class=\"style-scope ytd-thumbnail-overlay-time-status-renderer\" id=\"text\">\n",
      "  1:28:06\n",
      "</span></ytd-thumbnail-overlay-time-status-renderer><ytd-thumbnail-overlay-now-playing-renderer class=\"style-scope ytd-thumbnail\"><!--css-build:shady--><span class=\"style-scope ytd-thumbnail-overlay-now-playing-renderer\" id=\"overlay-text\">Now playing</span>\n",
      "<ytd-thumbnail-overlay-equalizer class=\"style-scope ytd-thumbnail-overlay-now-playing-renderer\"><!--css-build:shady--><svg class=\"style-scope ytd-thumbnail-overlay-equalizer\" id=\"equalizer\" viewbox=\"0 0 55 95\" xmlns=\"http://www.w3.org/2000/svg\">\n",
      "<g class=\"style-scope ytd-thumbnail-overlay-equalizer\">\n",
      "<rect class=\"bar style-scope ytd-thumbnail-overlay-equalizer\" x=\"0\"></rect>\n",
      "<rect class=\"bar style-scope ytd-thumbnail-overlay-equalizer\" x=\"20\"></rect>\n",
      "<rect class=\"bar style-scope ytd-thumbnail-overlay-equalizer\" x=\"40\"></rect>\n",
      "</g>\n",
      "</svg>\n",
      "</ytd-thumbnail-overlay-equalizer>\n",
      "</ytd-thumbnail-overlay-now-playing-renderer></div>\n",
      "<div class=\"style-scope ytd-thumbnail\" id=\"mouseover-overlay\"></div>\n",
      "<div class=\"style-scope ytd-thumbnail\" id=\"hover-overlays\"></div>\n",
      "</a>, <a aria-hidden=\"true\" class=\"yt-simple-endpoint inline-block style-scope ytd-thumbnail\" href=\"/watch?v=ZdyGE7nwItI\" id=\"thumbnail\" rel=\"null\" tabindex=\"-1\">\n",
      "<yt-image alt=\"\" class=\"style-scope ytd-thumbnail\" ftl-eligible=\"\" notify-on-loaded=\"\" notify-on-unloaded=\"\"><img alt=\"\" class=\"yt-core-image--fill-parent-height yt-core-image--fill-parent-width yt-core-image yt-core-image--content-mode-scale-aspect-fill\" style=\"background-color: transparent;\"/></yt-image>\n",
      "<div class=\"style-scope ytd-thumbnail\" id=\"overlays\"><ytd-thumbnail-overlay-time-status-renderer class=\"style-scope ytd-thumbnail\" overlay-style=\"DEFAULT\"><!--css-build:shady--><yt-icon class=\"style-scope ytd-thumbnail-overlay-time-status-renderer\" disable-upgrade=\"\" hidden=\"\" size=\"16\"></yt-icon><span aria-label=\"41 minutes\" class=\"style-scope ytd-thumbnail-overlay-time-status-renderer\" id=\"text\">\n",
      "  41:00\n",
      "</span></ytd-thumbnail-overlay-time-status-renderer><ytd-thumbnail-overlay-now-playing-renderer class=\"style-scope ytd-thumbnail\"><!--css-build:shady--><span class=\"style-scope ytd-thumbnail-overlay-now-playing-renderer\" id=\"overlay-text\">Now playing</span>\n",
      "<ytd-thumbnail-overlay-equalizer class=\"style-scope ytd-thumbnail-overlay-now-playing-renderer\"><!--css-build:shady--><svg class=\"style-scope ytd-thumbnail-overlay-equalizer\" id=\"equalizer\" viewbox=\"0 0 55 95\" xmlns=\"http://www.w3.org/2000/svg\">\n",
      "<g class=\"style-scope ytd-thumbnail-overlay-equalizer\">\n",
      "<rect class=\"bar style-scope ytd-thumbnail-overlay-equalizer\" x=\"0\"></rect>\n",
      "<rect class=\"bar style-scope ytd-thumbnail-overlay-equalizer\" x=\"20\"></rect>\n",
      "<rect class=\"bar style-scope ytd-thumbnail-overlay-equalizer\" x=\"40\"></rect>\n",
      "</g>\n",
      "</svg>\n",
      "</ytd-thumbnail-overlay-equalizer>\n",
      "</ytd-thumbnail-overlay-now-playing-renderer></div>\n",
      "<div class=\"style-scope ytd-thumbnail\" id=\"mouseover-overlay\"></div>\n",
      "<div class=\"style-scope ytd-thumbnail\" id=\"hover-overlays\"></div>\n",
      "</a>, <a aria-hidden=\"true\" class=\"yt-simple-endpoint inline-block style-scope ytd-thumbnail\" href=\"/watch?v=Q3TjSP8zxec\" id=\"thumbnail\" rel=\"null\" tabindex=\"-1\">\n",
      "<yt-image alt=\"\" class=\"style-scope ytd-thumbnail\" ftl-eligible=\"\" notify-on-loaded=\"\" notify-on-unloaded=\"\"><img alt=\"\" class=\"yt-core-image--fill-parent-height yt-core-image--fill-parent-width yt-core-image yt-core-image--content-mode-scale-aspect-fill\" style=\"background-color: transparent;\"/></yt-image>\n",
      "<div class=\"style-scope ytd-thumbnail\" id=\"overlays\"><ytd-thumbnail-overlay-time-status-renderer class=\"style-scope ytd-thumbnail\" overlay-style=\"DEFAULT\"><!--css-build:shady--><yt-icon class=\"style-scope ytd-thumbnail-overlay-time-status-renderer\" disable-upgrade=\"\" hidden=\"\" size=\"16\"></yt-icon><span aria-label=\"22 minutes, 13 seconds\" class=\"style-scope ytd-thumbnail-overlay-time-status-renderer\" id=\"text\">\n",
      "  22:13\n",
      "</span></ytd-thumbnail-overlay-time-status-renderer><ytd-thumbnail-overlay-now-playing-renderer class=\"style-scope ytd-thumbnail\"><!--css-build:shady--><span class=\"style-scope ytd-thumbnail-overlay-now-playing-renderer\" id=\"overlay-text\">Now playing</span>\n",
      "<ytd-thumbnail-overlay-equalizer class=\"style-scope ytd-thumbnail-overlay-now-playing-renderer\"><!--css-build:shady--><svg class=\"style-scope ytd-thumbnail-overlay-equalizer\" id=\"equalizer\" viewbox=\"0 0 55 95\" xmlns=\"http://www.w3.org/2000/svg\">\n",
      "<g class=\"style-scope ytd-thumbnail-overlay-equalizer\">\n",
      "<rect class=\"bar style-scope ytd-thumbnail-overlay-equalizer\" x=\"0\"></rect>\n",
      "<rect class=\"bar style-scope ytd-thumbnail-overlay-equalizer\" x=\"20\"></rect>\n",
      "<rect class=\"bar style-scope ytd-thumbnail-overlay-equalizer\" x=\"40\"></rect>\n",
      "</g>\n",
      "</svg>\n",
      "</ytd-thumbnail-overlay-equalizer>\n",
      "</ytd-thumbnail-overlay-now-playing-renderer></div>\n",
      "<div class=\"style-scope ytd-thumbnail\" id=\"mouseover-overlay\"></div>\n",
      "<div class=\"style-scope ytd-thumbnail\" id=\"hover-overlays\"></div>\n",
      "</a>, <a aria-hidden=\"true\" class=\"yt-simple-endpoint inline-block style-scope ytd-thumbnail\" href=\"/watch?v=32d-4jFB8QM\" id=\"thumbnail\" rel=\"null\" tabindex=\"-1\">\n",
      "<yt-image alt=\"\" class=\"style-scope ytd-thumbnail\" ftl-eligible=\"\" notify-on-loaded=\"\" notify-on-unloaded=\"\"><img alt=\"\" class=\"yt-core-image--fill-parent-height yt-core-image--fill-parent-width yt-core-image yt-core-image--content-mode-scale-aspect-fill\" style=\"background-color: transparent;\"/></yt-image>\n",
      "<div class=\"style-scope ytd-thumbnail\" id=\"overlays\"><ytd-thumbnail-overlay-time-status-renderer class=\"style-scope ytd-thumbnail\" overlay-style=\"DEFAULT\"><!--css-build:shady--><yt-icon class=\"style-scope ytd-thumbnail-overlay-time-status-renderer\" disable-upgrade=\"\" hidden=\"\" size=\"16\"></yt-icon><span aria-label=\"1 hour, 1 minute, 2 seconds\" class=\"style-scope ytd-thumbnail-overlay-time-status-renderer\" id=\"text\">\n",
      "  1:01:02\n",
      "</span></ytd-thumbnail-overlay-time-status-renderer><ytd-thumbnail-overlay-now-playing-renderer class=\"style-scope ytd-thumbnail\"><!--css-build:shady--><span class=\"style-scope ytd-thumbnail-overlay-now-playing-renderer\" id=\"overlay-text\">Now playing</span>\n",
      "<ytd-thumbnail-overlay-equalizer class=\"style-scope ytd-thumbnail-overlay-now-playing-renderer\"><!--css-build:shady--><svg class=\"style-scope ytd-thumbnail-overlay-equalizer\" id=\"equalizer\" viewbox=\"0 0 55 95\" xmlns=\"http://www.w3.org/2000/svg\">\n",
      "<g class=\"style-scope ytd-thumbnail-overlay-equalizer\">\n",
      "<rect class=\"bar style-scope ytd-thumbnail-overlay-equalizer\" x=\"0\"></rect>\n",
      "<rect class=\"bar style-scope ytd-thumbnail-overlay-equalizer\" x=\"20\"></rect>\n",
      "<rect class=\"bar style-scope ytd-thumbnail-overlay-equalizer\" x=\"40\"></rect>\n",
      "</g>\n",
      "</svg>\n",
      "</ytd-thumbnail-overlay-equalizer>\n",
      "</ytd-thumbnail-overlay-now-playing-renderer></div>\n",
      "<div class=\"style-scope ytd-thumbnail\" id=\"mouseover-overlay\"></div>\n",
      "<div class=\"style-scope ytd-thumbnail\" id=\"hover-overlays\"></div>\n",
      "</a>, <a aria-hidden=\"true\" class=\"yt-simple-endpoint inline-block style-scope ytd-thumbnail\" href=\"/watch?v=9_u4xsh-2eg\" id=\"thumbnail\" rel=\"null\" tabindex=\"-1\">\n",
      "<yt-image alt=\"\" class=\"style-scope ytd-thumbnail\" ftl-eligible=\"\" notify-on-loaded=\"\" notify-on-unloaded=\"\"><img alt=\"\" class=\"yt-core-image--fill-parent-height yt-core-image--fill-parent-width yt-core-image yt-core-image--content-mode-scale-aspect-fill\" style=\"background-color: transparent;\"/></yt-image>\n",
      "<div class=\"style-scope ytd-thumbnail\" id=\"overlays\"><ytd-thumbnail-overlay-time-status-renderer class=\"style-scope ytd-thumbnail\" overlay-style=\"DEFAULT\"><!--css-build:shady--><yt-icon class=\"style-scope ytd-thumbnail-overlay-time-status-renderer\" disable-upgrade=\"\" hidden=\"\" size=\"16\"></yt-icon><span aria-label=\"15 minutes, 2 seconds\" class=\"style-scope ytd-thumbnail-overlay-time-status-renderer\" id=\"text\">\n",
      "  15:02\n",
      "</span></ytd-thumbnail-overlay-time-status-renderer><ytd-thumbnail-overlay-now-playing-renderer class=\"style-scope ytd-thumbnail\"><!--css-build:shady--><span class=\"style-scope ytd-thumbnail-overlay-now-playing-renderer\" id=\"overlay-text\">Now playing</span>\n",
      "<ytd-thumbnail-overlay-equalizer class=\"style-scope ytd-thumbnail-overlay-now-playing-renderer\"><!--css-build:shady--><svg class=\"style-scope ytd-thumbnail-overlay-equalizer\" id=\"equalizer\" viewbox=\"0 0 55 95\" xmlns=\"http://www.w3.org/2000/svg\">\n",
      "<g class=\"style-scope ytd-thumbnail-overlay-equalizer\">\n",
      "<rect class=\"bar style-scope ytd-thumbnail-overlay-equalizer\" x=\"0\"></rect>\n",
      "<rect class=\"bar style-scope ytd-thumbnail-overlay-equalizer\" x=\"20\"></rect>\n",
      "<rect class=\"bar style-scope ytd-thumbnail-overlay-equalizer\" x=\"40\"></rect>\n",
      "</g>\n",
      "</svg>\n",
      "</ytd-thumbnail-overlay-equalizer>\n",
      "</ytd-thumbnail-overlay-now-playing-renderer></div>\n",
      "<div class=\"style-scope ytd-thumbnail\" id=\"mouseover-overlay\"></div>\n",
      "<div class=\"style-scope ytd-thumbnail\" id=\"hover-overlays\"></div>\n",
      "</a>, <a aria-hidden=\"true\" class=\"yt-simple-endpoint inline-block style-scope ytd-thumbnail\" id=\"thumbnail\" tabindex=\"-1\">\n",
      "<yt-image alt=\"\" class=\"style-scope ytd-thumbnail\" ftl-eligible=\"\" notify-on-loaded=\"\" notify-on-unloaded=\"\"></yt-image>\n",
      "<div class=\"style-scope ytd-thumbnail\" id=\"overlays\"></div>\n",
      "<div class=\"style-scope ytd-thumbnail\" id=\"mouseover-overlay\"></div>\n",
      "<div class=\"style-scope ytd-thumbnail\" id=\"hover-overlays\"></div>\n",
      "</a>]\n"
     ]
    }
   ],
   "source": [
    "print(video_tags)"
   ]
  },
  {
   "cell_type": "code",
   "execution_count": 7,
   "metadata": {},
   "outputs": [],
   "source": [
    "del video_tags[0]"
   ]
  },
  {
   "cell_type": "code",
   "execution_count": 8,
   "metadata": {},
   "outputs": [
    {
     "data": {
      "text/plain": [
       "29"
      ]
     },
     "execution_count": 8,
     "metadata": {},
     "output_type": "execute_result"
    }
   ],
   "source": [
    "len(video_tags)"
   ]
  },
  {
   "cell_type": "markdown",
   "metadata": {},
   "source": [
    "#### Q1. URL of the first five videos"
   ]
  },
  {
   "cell_type": "code",
   "execution_count": 9,
   "metadata": {},
   "outputs": [
    {
     "name": "stdout",
     "output_type": "stream",
     "text": [
      "https://www.youtube.com/watch?v=-osuIPJkPWg\n",
      "https://www.youtube.com/watch?v=VsKb_U2-Cx0\n",
      "https://www.youtube.com/watch?v=ZNHlCezYN1I\n",
      "https://www.youtube.com/watch?v=nNmV-fuGW5c\n",
      "https://www.youtube.com/watch?v=6Mht7UigC_w\n"
     ]
    }
   ],
   "source": [
    "video_urls = []\n",
    "for i in video_tags[:5]:\n",
    "    print('https://www.youtube.com'+ i['href'])\n",
    "    video_urls.append('https://www.youtube.com'+ i['href'])"
   ]
  },
  {
   "cell_type": "markdown",
   "metadata": {},
   "source": [
    "#### Q2. URL of the video thumbnails of the first five videos"
   ]
  },
  {
   "cell_type": "code",
   "execution_count": 10,
   "metadata": {},
   "outputs": [],
   "source": [
    "thumbnail = soup.findAll('img', {'class':'yt-core-image--fill-parent-height yt-core-image--fill-parent-width yt-core-image yt-core-image--content-mode-scale-aspect-fill yt-core-image--loaded'})"
   ]
  },
  {
   "cell_type": "code",
   "execution_count": 11,
   "metadata": {},
   "outputs": [
    {
     "name": "stdout",
     "output_type": "stream",
     "text": [
      "https://i.ytimg.com/vi/-osuIPJkPWg/hqdefault.jpg?sqp=-oaymwEcCNACELwBSFXyq4qpAw4IARUAAIhCGAFwAcABBg==&rs=AOn4CLAIzE3_yVozBODRCJvZ4Qg29v3UuA\n",
      "https://i.ytimg.com/vi/VsKb_U2-Cx0/hqdefault.jpg?sqp=-oaymwEcCNACELwBSFXyq4qpAw4IARUAAIhCGAFwAcABBg==&rs=AOn4CLBVtsaBL6O32XQx_7Qi-wdGfjn_iA\n",
      "https://i.ytimg.com/vi/ZNHlCezYN1I/hqdefault.jpg?sqp=-oaymwEcCNACELwBSFXyq4qpAw4IARUAAIhCGAFwAcABBg==&rs=AOn4CLBCFqdlLDBC2Kkf3zEF-LK5TNEwkw\n",
      "https://i.ytimg.com/vi/nNmV-fuGW5c/hqdefault.jpg?sqp=-oaymwEcCNACELwBSFXyq4qpAw4IARUAAIhCGAFwAcABBg==&rs=AOn4CLBjSM8jHxXjo8skRTMryGUJsisS9w\n",
      "https://i.ytimg.com/vi/6Mht7UigC_w/hqdefault.jpg?sqp=-oaymwEcCNACELwBSFXyq4qpAw4IARUAAIhCGAFwAcABBg==&rs=AOn4CLBHz1uk4Eqa1RW0V9RSoeH8xYtUPA\n"
     ]
    }
   ],
   "source": [
    "thumbnail_urls = []\n",
    "for i in thumbnail[:5]:\n",
    "    print(i['src'])\n",
    "    thumbnail_urls.append(i['src'])"
   ]
  },
  {
   "cell_type": "markdown",
   "metadata": {},
   "source": [
    "#### Q3. Title of the first five videos"
   ]
  },
  {
   "cell_type": "code",
   "execution_count": 12,
   "metadata": {},
   "outputs": [],
   "source": [
    "yt = soup.findAll('yt-formatted-string', {\"id\":\"video-title\"})[:5]"
   ]
  },
  {
   "cell_type": "code",
   "execution_count": 13,
   "metadata": {},
   "outputs": [
    {
     "data": {
      "text/plain": [
       "'Complete 𝗠𝗮𝗴𝗻𝗲𝘁𝗶𝗰 𝗘𝗳𝗳𝗲𝗰𝘁 𝗼𝗳 𝗘𝗹𝗲𝗰𝘁𝗿𝗶𝗰 𝗖𝘂𝗿𝗿𝗲𝗻𝘁 in 2 Hours 15 Minutes | Class 10th Board Exam'"
      ]
     },
     "execution_count": 13,
     "metadata": {},
     "output_type": "execute_result"
    }
   ],
   "source": [
    "yt[0].text"
   ]
  },
  {
   "cell_type": "code",
   "execution_count": 14,
   "metadata": {},
   "outputs": [
    {
     "name": "stdout",
     "output_type": "stream",
     "text": [
      "Complete 𝗠𝗮𝗴𝗻𝗲𝘁𝗶𝗰 𝗘𝗳𝗳𝗲𝗰𝘁 𝗼𝗳 𝗘𝗹𝗲𝗰𝘁𝗿𝗶𝗰 𝗖𝘂𝗿𝗿𝗲𝗻𝘁 in 2 Hours 15 Minutes | Class 10th Board Exam\n",
      "Complete 𝗛𝘂𝗺𝗮𝗻 𝗘𝘆𝗲 & 𝗧𝗵𝗲 𝗖𝗼𝗹𝗼𝘂𝗿𝗳𝘂𝗹 𝗪𝗼𝗿𝗹𝗱 in 2 Hours 24 Minutes | Class 10th Board Exam\n",
      "Complete 𝗘𝗹𝗲𝗰𝘁𝗿𝗶𝗰𝗶𝘁𝘆 in 2 Hours 4 Minutes  | Class 10th Board Exam\n",
      "Complete 𝗟𝗜𝗚𝗛𝗧 in 3 Hours 49 Minutes | Class 10th Board Exam\n",
      "NEW Batches for Class 10 & 9 - Session 2023-24 || NEEV and UDAAN Batch Launch 🚀\n"
     ]
    }
   ],
   "source": [
    "video_title = []\n",
    "for i in range(5):\n",
    "    print(yt[i].text)\n",
    "    video_title.append(yt[i].text)"
   ]
  },
  {
   "cell_type": "markdown",
   "metadata": {},
   "source": [
    "#### Q4. Number of views of the first five videos"
   ]
  },
  {
   "cell_type": "code",
   "execution_count": 15,
   "metadata": {},
   "outputs": [],
   "source": [
    "views = soup.findAll('span',{'class':'inline-metadata-item style-scope ytd-video-meta-block'})"
   ]
  },
  {
   "cell_type": "code",
   "execution_count": 16,
   "metadata": {},
   "outputs": [
    {
     "name": "stdout",
     "output_type": "stream",
     "text": [
      "17K views\n",
      "9K views\n",
      "32K views\n",
      "50K views\n",
      "41K views\n"
     ]
    }
   ],
   "source": [
    "video_views = []\n",
    "for i in range(0,10,2):\n",
    "    print(views[i].text)\n",
    "    video_views.append(views[i].text)"
   ]
  },
  {
   "cell_type": "markdown",
   "metadata": {},
   "source": [
    "#### Q5. Time of posting of the first five videos."
   ]
  },
  {
   "cell_type": "code",
   "execution_count": 17,
   "metadata": {},
   "outputs": [],
   "source": [
    "time = soup.findAll('span',{'class':'inline-metadata-item style-scope ytd-video-meta-block'})"
   ]
  },
  {
   "cell_type": "code",
   "execution_count": 18,
   "metadata": {},
   "outputs": [
    {
     "name": "stdout",
     "output_type": "stream",
     "text": [
      "11 hours ago\n",
      "12 hours ago\n",
      "17 hours ago\n",
      "21 hours ago\n",
      "23 hours ago\n"
     ]
    }
   ],
   "source": [
    "video_uploaded = []\n",
    "for i in range(1,11,2):\n",
    "    print(time[i].text)\n",
    "    video_uploaded.append(time[i].text)"
   ]
  },
  {
   "cell_type": "markdown",
   "metadata": {},
   "source": [
    "#### Save all the data scraped in the above questions in a CSV file."
   ]
  },
  {
   "cell_type": "code",
   "execution_count": 25,
   "metadata": {},
   "outputs": [
    {
     "name": "stdout",
     "output_type": "stream",
     "text": [
      "                                    Video_urls  \\\n",
      "0  https://www.youtube.com/watch?v=-osuIPJkPWg   \n",
      "1  https://www.youtube.com/watch?v=VsKb_U2-Cx0   \n",
      "2  https://www.youtube.com/watch?v=ZNHlCezYN1I   \n",
      "3  https://www.youtube.com/watch?v=nNmV-fuGW5c   \n",
      "4  https://www.youtube.com/watch?v=6Mht7UigC_w   \n",
      "\n",
      "                                      Thumbnail_urls  \\\n",
      "0  https://i.ytimg.com/vi/-osuIPJkPWg/hqdefault.j...   \n",
      "1  https://i.ytimg.com/vi/VsKb_U2-Cx0/hqdefault.j...   \n",
      "2  https://i.ytimg.com/vi/ZNHlCezYN1I/hqdefault.j...   \n",
      "3  https://i.ytimg.com/vi/nNmV-fuGW5c/hqdefault.j...   \n",
      "4  https://i.ytimg.com/vi/6Mht7UigC_w/hqdefault.j...   \n",
      "\n",
      "                                         Video_title Video_views  \\\n",
      "0  Complete 𝗠𝗮𝗴𝗻𝗲𝘁𝗶𝗰 𝗘𝗳𝗳𝗲𝗰𝘁 𝗼𝗳 𝗘𝗹𝗲𝗰𝘁𝗿𝗶𝗰 𝗖𝘂𝗿𝗿𝗲𝗻𝘁 i...   17K views   \n",
      "1  Complete 𝗛𝘂𝗺𝗮𝗻 𝗘𝘆𝗲 & 𝗧𝗵𝗲 𝗖𝗼𝗹𝗼𝘂𝗿𝗳𝘂𝗹 𝗪𝗼𝗿𝗹𝗱 in 2 ...    9K views   \n",
      "2  Complete 𝗘𝗹𝗲𝗰𝘁𝗿𝗶𝗰𝗶𝘁𝘆 in 2 Hours 4 Minutes  | C...   32K views   \n",
      "3  Complete 𝗟𝗜𝗚𝗛𝗧 in 3 Hours 49 Minutes | Class 1...   50K views   \n",
      "4  NEW Batches for Class 10 & 9 - Session 2023-24...   41K views   \n",
      "\n",
      "  Video_uploaded  \n",
      "0   11 hours ago  \n",
      "1   12 hours ago  \n",
      "2   17 hours ago  \n",
      "3   21 hours ago  \n",
      "4   23 hours ago  \n"
     ]
    }
   ],
   "source": [
    "df = pd.DataFrame({'Thumbnail_urls':thumbnail_urls,\n",
    "                    'Video_title':video_title,\n",
    "                    'Video_urls':video_urls, \n",
    "                    'Video_views':video_views, \n",
    "                    'Video_uploaded':video_uploaded})\n",
    "print(df)\n",
    "df.to_csv('Video_Scrapper.csv', index = False)"
   ]
  },
  {
   "cell_type": "code",
   "execution_count": null,
   "metadata": {},
   "outputs": [],
   "source": []
  }
 ],
 "metadata": {
  "kernelspec": {
   "display_name": "Python 3",
   "language": "python",
   "name": "python3"
  },
  "language_info": {
   "codemirror_mode": {
    "name": "ipython",
    "version": 3
   },
   "file_extension": ".py",
   "mimetype": "text/x-python",
   "name": "python",
   "nbconvert_exporter": "python",
   "pygments_lexer": "ipython3",
   "version": "3.8.5"
  }
 },
 "nbformat": 4,
 "nbformat_minor": 4
}
