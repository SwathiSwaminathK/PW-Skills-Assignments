{
 "cells": [
  {
   "cell_type": "markdown",
   "metadata": {},
   "source": [
    "**Q1.** Create a vehicle class with an init method having instance variables as name_of_vehicle, max_speed and average_of_vehicle.\n",
    "\n",
    "**Ans:**"
   ]
  },
  {
   "cell_type": "code",
   "execution_count": 41,
   "metadata": {},
   "outputs": [],
   "source": [
    "class vehicle:\n",
    "    \n",
    "    def __init__(self, name, speed, avg_vehicle):\n",
    "        self.name_of_vehicle = name\n",
    "        self.max_speed = speed\n",
    "        self.average_of_vehicle = avg_vehicle\n",
    "        \n",
    "    def get_max_speed(self):  \n",
    "        print('Max speed of vehicle: ', self.max_speed)"
   ]
  },
  {
   "cell_type": "code",
   "execution_count": 42,
   "metadata": {},
   "outputs": [
    {
     "name": "stdout",
     "output_type": "stream",
     "text": [
      "Max speed of vehicle:  100\n"
     ]
    }
   ],
   "source": [
    "obj_vehicle = vehicle('Innova', 100, 25)\n",
    "obj_vehicle.get_max_speed()"
   ]
  },
  {
   "cell_type": "markdown",
   "metadata": {},
   "source": [
    "**Q2.** Create a child class car from the vehicle class created in Que 1, which will inherit the vehicle class. Create a method named seating_capacity which takes capacity as an argument and returns the name of the vehicle and its seating capacity.\n",
    "\n",
    "**Ans:**"
   ]
  },
  {
   "cell_type": "code",
   "execution_count": 61,
   "metadata": {},
   "outputs": [],
   "source": [
    "class car(vehicle):\n",
    "    \n",
    "    def seating_capacity(self, capacity):\n",
    "        self.capacity = capacity\n",
    "        print('Capacity:',self.capacity)\n",
    "        print('Name of vehicle:', self.name_of_vehicle)"
   ]
  },
  {
   "cell_type": "code",
   "execution_count": 63,
   "metadata": {},
   "outputs": [
    {
     "name": "stdout",
     "output_type": "stream",
     "text": [
      "Capacity: 5\n",
      "Name of vehicle: Innova\n"
     ]
    }
   ],
   "source": [
    "obj_car = car('Innova', 100, 25)\n",
    "obj_car.seating_capacity(5)"
   ]
  },
  {
   "cell_type": "markdown",
   "metadata": {},
   "source": [
    "**Q3.** What is multiple inheritance? Write a python code to demonstrate multiple inheritance.\n",
    "\n",
    "**Ans:** \n",
    "\n",
    " In object-oriented programming languages, multiple inheritance enables a class to inherit properties and behaviors from many parent classes. In other words, a class can inherit attributes and methods from numerous superclasses. This allows the creation of more complex and flexible class hierarchies as well as more code reuse.\n",
    "\n",
    "**Example:**"
   ]
  },
  {
   "cell_type": "code",
   "execution_count": 71,
   "metadata": {},
   "outputs": [],
   "source": [
    "class bird:\n",
    "    \n",
    "    def __init__(self, name):\n",
    "        self.name = name\n",
    "    \n",
    "    def show_species(self):\n",
    "        print(\"I am a\", self.name)\n",
    "\n",
    "class flying:\n",
    "    \n",
    "    def __init__(self, speed):\n",
    "        self.speed = speed\n",
    "    \n",
    "    def fly(self):\n",
    "        print(\"Fly at a speed\", self.speed, \"miles per hour.\")\n",
    "\n",
    "class flying_bird(bird, flying):\n",
    "    \n",
    "    def __init__(self, name, speed):\n",
    "        bird.__init__(self, name)\n",
    "        flying.__init__(self, speed)\n"
   ]
  },
  {
   "cell_type": "code",
   "execution_count": 72,
   "metadata": {},
   "outputs": [
    {
     "name": "stdout",
     "output_type": "stream",
     "text": [
      "I am a Flamingo\n",
      "Fly at a speed 150 miles per hour.\n"
     ]
    }
   ],
   "source": [
    "b = flying_bird(\"Flamingo\", 150)\n",
    "b.show_species()\n",
    "b.fly()"
   ]
  },
  {
   "cell_type": "markdown",
   "metadata": {},
   "source": [
    "**Q4.** What are getter and setter in python? Create a class and create a getter and a setter method in this class.\n",
    "\n",
    "**Ans:**\n",
    "\n",
    "* Getters: These are the methods used in Object-Oriented Programming (OOPS) which helps to access the private attributes from a class.\n",
    "\n",
    "* Setters: These are the methods used in OOPS feature which helps to set the value to private attributes in a class."
   ]
  },
  {
   "cell_type": "code",
   "execution_count": 4,
   "metadata": {},
   "outputs": [],
   "source": [
    "class S_Class:\n",
    "\n",
    "    def __init__(self, a):\n",
    "        self.__a = a\n",
    "\n",
    "    def get_a(self):\n",
    "        return self.__a\n",
    "\n",
    "    def set_a(self, a):\n",
    "        self.__a = a"
   ]
  },
  {
   "cell_type": "code",
   "execution_count": 5,
   "metadata": {},
   "outputs": [
    {
     "name": "stdout",
     "output_type": "stream",
     "text": [
      "10\n",
      "45\n"
     ]
    }
   ],
   "source": [
    "obj = S_Class(10)\n",
    "print(obj.get_a())\n",
    "obj.set_a(45)\n",
    "print(obj.get_a())"
   ]
  },
  {
   "cell_type": "markdown",
   "metadata": {},
   "source": [
    "**Q5.** What is method overriding in python? Write a python code to demonstrate method overriding.\n",
    "\n",
    "**Ans:**\n",
    "\n",
    "Method Overriding in Python is a feature of object-oriented programming that allows a subclass to provide a different implementation for a method that is already defined in its superclass. This process of defining a method in a subclass with the same name as a method in the superclass is known as method overriding."
   ]
  },
  {
   "cell_type": "code",
   "execution_count": 6,
   "metadata": {},
   "outputs": [
    {
     "name": "stdout",
     "output_type": "stream",
     "text": [
      "200\n",
      "78.5\n"
     ]
    }
   ],
   "source": [
    "class Shape:\n",
    "    def area(self):\n",
    "        pass\n",
    "\n",
    "class Rectangle(Shape):\n",
    "    def __init__(self, width, height):\n",
    "        self.width = width\n",
    "        self.height = height\n",
    "\n",
    "    def area(self):\n",
    "        return self.width * self.height\n",
    "\n",
    "class Circle(Shape):\n",
    "    def __init__(self, radius):\n",
    "        self.radius = radius\n",
    "\n",
    "    def area(self):\n",
    "        return 3.14 * self.radius * self.radius\n",
    "\n",
    "rect = Rectangle(10, 20)\n",
    "print(rect.area())\n",
    "\n",
    "circ = Circle(5)\n",
    "print(circ.area())"
   ]
  },
  {
   "cell_type": "code",
   "execution_count": null,
   "metadata": {},
   "outputs": [],
   "source": []
  }
 ],
 "metadata": {
  "kernelspec": {
   "display_name": "Python 3",
   "language": "python",
   "name": "python3"
  },
  "language_info": {
   "codemirror_mode": {
    "name": "ipython",
    "version": 3
   },
   "file_extension": ".py",
   "mimetype": "text/x-python",
   "name": "python",
   "nbconvert_exporter": "python",
   "pygments_lexer": "ipython3",
   "version": "3.8.5"
  }
 },
 "nbformat": 4,
 "nbformat_minor": 4
}
