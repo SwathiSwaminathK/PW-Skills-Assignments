{
 "cells": [
  {
   "cell_type": "markdown",
   "metadata": {},
   "source": [
    "**Q1.** What is multithreading in python? Why is it used? Name the module used to handle threads in python.\n",
    "\n",
    "**Ans:**\n",
    "\n",
    "Multithreading is a programming concept that involves dividing a single process into multiple smaller and independent tasks, known as threads, that can be executed concurrently. \n",
    "\n",
    "Multithreading is used to improve the performance of a program by allowing it to execute multiple tasks simultaneously. For example, if a program needs to perform several I/O-bound tasks, such as downloading data from the internet or reading files from disk, using multithreading can help to avoid blocking the main thread and improve the overall speed of the program.\n",
    "\n",
    "The **threading** module is used to handle threads. This module provides a way to create and manage threads in a high-level, object-oriented manner. The **threading** module defines a **Thread** class, which is used to create and manage individual threads of execution."
   ]
  },
  {
   "cell_type": "markdown",
   "metadata": {},
   "source": [
    "**Q2.** Why threading module used? Write the use of the following functions:\n",
    "\n",
    "1. activeCount()\n",
    "2. currentThread()\n",
    "3. enumerate()\n",
    "\n",
    "**Ans:**\n",
    "\n",
    "The threading module in Python is used to handle threads and provides a way to create and manage threads in a high-level, object-oriented manner. The module provides a variety of functions and classes for working with threads.\n",
    "\n",
    "1. activeCount(): This function returns the number of currently active Thread objects in the program. It can be used to monitor the number of active threads and to ensure that the program is not creating too many threads.\n",
    "\n",
    "\n",
    "2. currentThread(): This function returns the Thread object representing the current thread of execution. It can be used to get information about the current thread, such as its name or ID, and to interact with other threads in the program.\n",
    "\n",
    "\n",
    "3. enumerate(): This function returns a list of all Thread objects that are currently active in the program. It can be used to get information about all the threads in the program, such as their names, IDs, and states."
   ]
  },
  {
   "cell_type": "markdown",
   "metadata": {},
   "source": [
    "**Q3.** Explain the following functions:\n",
    "\n",
    "1. run()\n",
    "2. start()\n",
    "3. join()\n",
    "4. isAlive()\n",
    "\n",
    "**Ans:**\n",
    "\n",
    "1. run(): This method is called when a Thread object is started using the start() method. It represents the code that will be executed in the thread.\n",
    "\n",
    "\n",
    "2. start(): This method starts a new thread of execution, calling the run() method in a separate thread. Once started, the thread will run independently of the main thread, allowing the program to execute multiple tasks concurrently.\n",
    "\n",
    "\n",
    "3. join(): This method waits for the thread to complete its execution before continuing with the main thread. It can be used to ensure that the results of the thread's work are available before continuing with the program.\n",
    "\n",
    "\n",
    "4. isAlive(): This method returns a boolean value indicating whether the thread is currently running. It can be used to check the status of a thread and to determine whether it has completed its work."
   ]
  },
  {
   "cell_type": "markdown",
   "metadata": {},
   "source": [
    "**Q4.** Write a program to create two threads. Thread one must print the list of squares and thread two must print the list of cubes.\n",
    "\n",
    "**Ans:**"
   ]
  },
  {
   "cell_type": "code",
   "execution_count": 23,
   "metadata": {},
   "outputs": [
    {
     "name": "stdout",
     "output_type": "stream",
     "text": [
      "Enter a num: 6\n",
      "Squares:  [1, 4, 9, 16, 25, 36]\n",
      "Cubes:  [1, 8, 27, 64, 125, 216]\n"
     ]
    }
   ],
   "source": [
    "import threading\n",
    "\n",
    "def squares(x):\n",
    "    \n",
    "    l2 = []\n",
    "    for i in range(1, x+1):\n",
    "        l2.append(i**2)\n",
    "    print(\"Squares: \",l2)\n",
    "\n",
    "def cubes(x):\n",
    "    \n",
    "    l3 = []\n",
    "    for i in range(1, x+1):\n",
    "        l3.append(i**3)\n",
    "    print(\"Cubes: \",l3)\n",
    "\n",
    "x = int(input(\"Enter a num: \"))\n",
    "t1 = threading.Thread(target = squares, args = (x,))\n",
    "t2 = threading.Thread(target = cubes, args = (x,))\n",
    "\n",
    "t1.start()\n",
    "t2.start()"
   ]
  },
  {
   "cell_type": "markdown",
   "metadata": {},
   "source": [
    "**Q5.** State advantages and disadvantages of multithreading.\n",
    "\n",
    "**Ans:**\n",
    "\n",
    "**Advantages:**\n",
    "\n",
    "1. Increased performance: Multithreading allows the program to execute multiple tasks concurrently, which can lead to a significant increase in performance.\n",
    "\n",
    "\n",
    "2. Improved responsiveness: Multithreading can make the program more responsive, as it allows the user interface to remain active while other tasks are being executed in the background.\n",
    "\n",
    "\n",
    "3. Better resource utilization: Multithreading can make more efficient use of system resources, such as CPU time and memory, by allowing multiple tasks to share these resources.\n",
    "\n",
    "\n",
    "4. Simplified coding: Multithreading can simplify the coding of complex tasks, as it allows the code to be broken down into smaller, more manageable parts.\n",
    "\n",
    "\n",
    "\n",
    "**Disadvantages:**\n",
    "\n",
    "\n",
    "1. Increased complexity: Multithreading can make the code more complex and harder to debug, as it introduces new issues such as race conditions and deadlocks.\n",
    "\n",
    "\n",
    "2. Synchronization issues: Multithreading requires synchronization between threads to ensure that they do not interfere with each other. This can add overhead and make the code more difficult to manage.\n",
    "\n",
    "\n",
    "3. Resource contention: Multithreading can lead to resource contention, where multiple threads are competing for the same resources, such as CPU time or memory.\n",
    "\n",
    "\n",
    "4. Reduced predictability: Multithreading can make the program's behavior less predictable, as the order in which tasks are executed can vary depending on the system load and other factors."
   ]
  },
  {
   "cell_type": "markdown",
   "metadata": {},
   "source": [
    "**Q6.** Explain deadlocks and race conditions.\n",
    "\n",
    "**Ans:**\n",
    "\n",
    "A deadlock occurs when two or more threads are blocked, waiting for each other to release resources that they are holding. This can happen when a thread acquires one resource, but then cannot proceed until it acquires another resource that is being held by a different thread. Meanwhile, that other thread is also waiting for the first thread to release a resource that it is holding. This can result in a situation where both threads are stuck, waiting for the other to release a resource, and the program becomes unresponsive.\n",
    "\n",
    "A race condition occurs when the behavior of a program depends on the order in which two or more threads execute their instructions. This can happen when two threads access the same shared resource, such as a variable or a file, and their access is not synchronized properly. Depending on the order in which the threads access the resource, the program may produce different results, or even crash. This can be particularly problematic when one thread modifies the shared resource while another thread is using it, leading to inconsistent or unexpected behavior."
   ]
  },
  {
   "cell_type": "code",
   "execution_count": null,
   "metadata": {},
   "outputs": [],
   "source": []
  }
 ],
 "metadata": {
  "kernelspec": {
   "display_name": "Python 3",
   "language": "python",
   "name": "python3"
  },
  "language_info": {
   "codemirror_mode": {
    "name": "ipython",
    "version": 3
   },
   "file_extension": ".py",
   "mimetype": "text/x-python",
   "name": "python",
   "nbconvert_exporter": "python",
   "pygments_lexer": "ipython3",
   "version": "3.8.5"
  }
 },
 "nbformat": 4,
 "nbformat_minor": 4
}
