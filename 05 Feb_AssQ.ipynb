{
 "cells": [
  {
   "cell_type": "markdown",
   "metadata": {},
   "source": [
    "**1.** Explain Class and Objects with respect Object-Oriented Programming. Give a suitable example.\n",
    "\n",
    "**Ans:**\n",
    "\n",
    " Classes are user-defined data types that act as the blueprint for individual objects, attributes and methods.\n",
    " Objects are instances of a class created with specifically defined data. And Objects can correspond to real-world objects or an abstract entity. "
   ]
  },
  {
   "cell_type": "code",
   "execution_count": 4,
   "metadata": {},
   "outputs": [
    {
     "name": "stdout",
     "output_type": "stream",
     "text": [
      "Area of Rectangle:  105\n"
     ]
    }
   ],
   "source": [
    "class rect:\n",
    "    \n",
    "    def __init__(self, breadth, length):\n",
    "        self.breadth = breadth\n",
    "        self.length = length\n",
    "        \n",
    "    def area(self):\n",
    "        return self.breadth * self.length\n",
    "\n",
    "\n",
    "obj = rect(15,7)\n",
    "print('Area of Rectangle: ',obj.area())"
   ]
  },
  {
   "cell_type": "markdown",
   "metadata": {},
   "source": [
    "**2.** Name the four pillars of OOPs.\n",
    "\n",
    "**Ans:**\n",
    "\n",
    "* Encapsulation\n",
    "* Abstraction\n",
    "* Inheritance\n",
    "* Polymorphism"
   ]
  },
  {
   "cell_type": "markdown",
   "metadata": {},
   "source": [
    "**3.** Explain why the **_ __init__() _** is used. Give a suitable example.\n",
    "\n",
    "**Ans:**\n",
    "\n",
    " The **_ __init__() _** function is used to assign values to object properties, or other operations that are necessary to do when the object is created."
   ]
  },
  {
   "cell_type": "code",
   "execution_count": 9,
   "metadata": {},
   "outputs": [
    {
     "data": {
      "text/plain": [
       "15"
      ]
     },
     "execution_count": 9,
     "metadata": {},
     "output_type": "execute_result"
    }
   ],
   "source": [
    "# Example\n",
    "\n",
    "class rect:\n",
    "    \n",
    "    def __init__(self, length, breadth):\n",
    "        self.breadth = breadth\n",
    "        self.length = length\n",
    "        \n",
    "\n",
    "obj = rect(15,7)\n",
    "obj.length"
   ]
  },
  {
   "cell_type": "markdown",
   "metadata": {},
   "source": [
    "**4.** Why self is used in OOPs.\n",
    "\n",
    "**Ans:**\n",
    " \n",
    " The **self** parameter is a reference to the current instance of the class and is used to access variables that belongs to the class. It does not have to be named **self**, we can call it whatever we like, but it has to be the first parameter of any function in the class."
   ]
  },
  {
   "cell_type": "markdown",
   "metadata": {},
   "source": [
    "**5.** What is inheritance? Give an example for each type of inheritance.\n",
    "\n",
    "**Ans:**\n",
    "\n",
    " Inheritance is an important aspect of the object-oriented paradigm. Inheritance provides code reusability to the program because we can use an existing class to create a new class instead of creating it from scratch. In inheritance, the child class acquires the properties and can access all the data members and functions defined in the parent class. A child class can also provide its specific implementation to the functions of the parent class.\n",
    " \n",
    " ### Types of Inheritance\n",
    " * Single Inheritance\n",
    " * Multiple Inheritance\n",
    " * Multilevel Inheritance\n",
    " * Hierarchical Inheritance\n",
    " * Hybrid Inheritance"
   ]
  },
  {
   "cell_type": "code",
   "execution_count": 16,
   "metadata": {},
   "outputs": [
    {
     "name": "stdout",
     "output_type": "stream",
     "text": [
      "This function is in parent class.\n",
      "This function is in child class.\n"
     ]
    }
   ],
   "source": [
    "# Single Inheritance\n",
    "\n",
    "class Parent:\n",
    "    def func1(self):\n",
    "        print(\"This function is in parent class.\")\n",
    "\n",
    "class Child(Parent):\n",
    "    def func2(self):\n",
    "        print(\"This function is in child class.\")\n",
    "\n",
    "object = Child()\n",
    "object.func1()\n",
    "object.func2()"
   ]
  },
  {
   "cell_type": "code",
   "execution_count": 17,
   "metadata": {},
   "outputs": [
    {
     "name": "stdout",
     "output_type": "stream",
     "text": [
      "Father : RAM\n",
      "Mother : SITA\n"
     ]
    }
   ],
   "source": [
    "# Multiple Inheritance\n",
    "\n",
    "class Mother:\n",
    "    def mother(self):\n",
    "        print(self.mothername)\n",
    "        \n",
    "class Father:\n",
    "    def father(self):\n",
    "        print(self.fathername)\n",
    "        \n",
    "class Son(Mother, Father):\n",
    "    def parents(self):\n",
    "        print(\"Father :\", self.fathername)\n",
    "        print(\"Mother :\", self.mothername)\n",
    "        \n",
    "s1 = Son()\n",
    "s1.fathername = \"RAM\"\n",
    "s1.mothername = \"SITA\"\n",
    "s1.parents()"
   ]
  },
  {
   "cell_type": "code",
   "execution_count": 18,
   "metadata": {},
   "outputs": [
    {
     "name": "stdout",
     "output_type": "stream",
     "text": [
      "This function is in parent class.\n",
      "This function is in child 1.\n",
      "This function is in parent class.\n",
      "This function is in child 2.\n"
     ]
    }
   ],
   "source": [
    "# Hierarchical Inheritance\n",
    "\n",
    "class Parent:\n",
    "    def func1(self):\n",
    "        print(\"This function is in parent class.\")\n",
    "\n",
    "class Child1(Parent):\n",
    "    def func2(self):\n",
    "        print(\"This function is in child 1.\")\n",
    "\n",
    "class Child2(Parent):\n",
    "    def func3(self):\n",
    "        print(\"This function is in child 2.\")\n",
    " \n",
    " \n",
    "object1 = Child1()\n",
    "object2 = Child2()\n",
    "object1.func1()\n",
    "object1.func2()\n",
    "object2.func1()\n",
    "object2.func3()"
   ]
  },
  {
   "cell_type": "code",
   "execution_count": null,
   "metadata": {},
   "outputs": [],
   "source": []
  }
 ],
 "metadata": {
  "kernelspec": {
   "display_name": "Python 3",
   "language": "python",
   "name": "python3"
  },
  "language_info": {
   "codemirror_mode": {
    "name": "ipython",
    "version": 3
   },
   "file_extension": ".py",
   "mimetype": "text/x-python",
   "name": "python",
   "nbconvert_exporter": "python",
   "pygments_lexer": "ipython3",
   "version": "3.8.5"
  }
 },
 "nbformat": 4,
 "nbformat_minor": 4
}
