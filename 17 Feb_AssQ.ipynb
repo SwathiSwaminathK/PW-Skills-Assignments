{
 "cells": [
  {
   "cell_type": "markdown",
   "metadata": {},
   "source": [
    "**Q1.** What is MongoDB? Explain non-relational databases in short. In which scenarios it is preferred to use\n",
    "MongoDB over SQL databases?\n",
    "\n",
    "**Ans:**\n",
    "\n",
    "MongoDB is a popular NoSQL document-oriented database that stores data in a JSON-like format. It is designed to scale horizontally and provides flexible and dynamic schemas that allow for easy data modeling and retrieval. MongoDB is open source and is used by many organizations for its ease of use, scalability, and performance.\n",
    "\n",
    "Non-relational databases, also known as NoSQL databases, are databases that do not use the traditional relational database model. Instead of storing data in tables with predefined columns and rows, NoSQL databases store data in a more flexible format, such as documents, key-value pairs, or graph structures. This makes it easier to store and query unstructured or semi-structured data, and allows for more efficient scaling.\n",
    "\n",
    "MongoDB is preferred over SQL databases in scenarios where flexibility, scalability, and performance are the key requirements. Some of the specific use cases where MongoDB is commonly used are:\n",
    "\n",
    "1. Web applications: MongoDB is popular for web applications because of its ability to handle large volumes of unstructured data.\n",
    "\n",
    "\n",
    "2. Big data: MongoDB is often used in big data environments where data is constantly changing and needs to be processed in real-time.\n",
    "\n",
    "\n",
    "3. Mobile and social media apps: MongoDB is also commonly used for mobile and social media applications, where fast read and write operations are important.\n",
    "\n",
    "\n",
    "4. Content management: MongoDB is well-suited for content management applications where the structure of the data may change over time.\n",
    "\n",
    "\n",
    "5. Real-time analytics: MongoDB's flexible data model and fast querying capabilities make it ideal for real-time analytics."
   ]
  },
  {
   "cell_type": "markdown",
   "metadata": {},
   "source": [
    "**Q2.** State and Explain the features of MongoDB.\n",
    "\n",
    "**Ans:**\n",
    "\n",
    "MongoDB is a popular NoSQL document-oriented database that provides a variety of features that make it well-suited for handling large volumes of unstructured data. Some of the key features of MongoDB are:\n",
    "\n",
    "1. Dynamic schema: MongoDB's dynamic schema allows for flexible data modeling, making it easy to store and retrieve data of different types and structures.\n",
    "\n",
    "\n",
    "2. Document-oriented: MongoDB is a document-oriented database, meaning it stores data in documents in a JSON-like format. This makes it easy to work with data that is unstructured or semi-structured.\n",
    "\n",
    "\n",
    "3. High performance: MongoDB provides high performance for both read and write operations due to its ability to horizontally scale and use memory efficiently.\n",
    "\n",
    "\n",
    "4. Scalability: MongoDB is designed to scale horizontally, allowing it to handle large volumes of data and high traffic loads.\n",
    "\n",
    "\n",
    "5. Rich query language: MongoDB provides a rich query language that supports a wide variety of queries, including range queries, regular expressions, and geospatial queries.\n",
    "\n",
    "\n",
    "6. Indexing: MongoDB provides indexing capabilities that allow for efficient searching and querying of large datasets.\n",
    "\n",
    "\n",
    "7. Aggregation framework: MongoDB's aggregation framework allows for complex data analysis and manipulation, making it well-suited for real-time analytics and business intelligence applications.\n",
    "\n",
    "\n",
    "8. High availability and fault tolerance: MongoDB provides high availability and fault tolerance through automatic failover and replication, ensuring that data is always available even in the event of hardware failure.\n",
    "\n",
    "\n",
    "9. Security: MongoDB provides several security features such as authentication, authorization, encryption, and auditing to ensure that data is secure."
   ]
  },
  {
   "cell_type": "markdown",
   "metadata": {},
   "source": [
    "**Q3.** Write a code to connect MongoDB to Python. Also, create a database and a collection in MongoDB.\n",
    "\n",
    "**Ans:**"
   ]
  },
  {
   "cell_type": "code",
   "execution_count": null,
   "metadata": {},
   "outputs": [],
   "source": [
    "import pymongo\n",
    "\n",
    "client = pymongo.MongoClient(\"mongodb+srv://<username>:<password>@cluster0.qy8ymp4.mongodb.net/?retryWrites=true&w=majority\")\n",
    "\n",
    "mydb = client[\"mydatabase\"]\n",
    "mycoll = mydb[\"mycollection\"]"
   ]
  },
  {
   "cell_type": "markdown",
   "metadata": {},
   "source": [
    "**Q4.** Using the database and the collection created in question number 3, write a code to insert one record,\n",
    "and insert many records. Use the find() and find_one() methods to print the inserted record.\n",
    "\n",
    "**Ans:**"
   ]
  },
  {
   "cell_type": "code",
   "execution_count": null,
   "metadata": {},
   "outputs": [],
   "source": [
    "data1 = { \"name\": \"John\", \"age\": \"37\", \"city\": \"Mumbai\" }\n",
    "mycoll.insert_one(data1)\n",
    "\n",
    " data2 = [\n",
    "  { \"name\": \"Amy\", \"age\": \"37\", \"address\": \"Apple st 652\" },\n",
    "  { \"name\": \"Hannah\", \"age\": \"25\", \"address\": \"Mountain 21\" },\n",
    "  { \"name\": \"Michael\", \"age\": \"32\", \"address\": \"Valley 345\" },\n",
    "  { \"name\": \"Sandy\", \"age\": \"35\", \"address\": \"Ocean blvd 2\" },\n",
    "  { \"name\": \"Betty\", \"age\": \"35\", \"address\": \"Green Grass 1\" },\n",
    "  { \"name\": \"Richard\", \"age\": \"28\", \"address\": \"Sky st 331\" },\n",
    "  { \"name\": \"Susan\", \"age\": \"28\", \"address\": \"One way 98\" },\n",
    "  { \"name\": \"Vicky\", \"age\": \"28\", \"address\": \"Yellow Garden 2\" },\n",
    "  { \"name\": \"Ben\", \"age\": \"27\", \"address\": \"Park Lane 38\" },\n",
    "  { \"name\": \"William\", \"age\": \"27\", \"address\": \"Central st 954\" },\n",
    "  { \"name\": \"Chuck\", \"age\": \"29\", \"address\": \"Main Road 989\" },\n",
    "  { \"name\": \"Viola\", \"age\": \"30\", \"address\": \"Sideway 1633\" }]\n",
    "\n",
    "mycoll.insert_many(data2)\n",
    "\n",
    "for i in mycoll.find():\n",
    "    print(i)\n",
    "    \n",
    "mycoll.find_one()"
   ]
  },
  {
   "cell_type": "markdown",
   "metadata": {},
   "source": [
    "**Q5.** Explain how you can use the find() method to query the MongoDB database. Write a simple code to\n",
    "demonstrate this.\n",
    "\n",
    "**Ans:** \n",
    "\n",
    "The find() method is used to query a MongoDB collection and retrieve documents that match the specified query criteria. The find() method returns a cursor object, which can be used to iterate over the results of the query.\n",
    "\n",
    "The query parameter specifies the selection criteria for the query, and can include a wide range of operators such as $gt, $lt, $in, $and, $or, and many others. The projection parameter is optional and can be used to specify which fields should be included or excluded from the results.\n",
    "\n",
    "We use the find() method to query the collection and retrieve all documents where the \"age\" field is greater than and equals to \"30\". We iterate over the results of the query using a for loop and print each document to the console."
   ]
  },
  {
   "cell_type": "code",
   "execution_count": null,
   "metadata": {},
   "outputs": [],
   "source": [
    "for i in mycoll.find({'age' : {'$gte' : '30'}}):\n",
    "    print(i)"
   ]
  },
  {
   "cell_type": "markdown",
   "metadata": {},
   "source": [
    "**Q6.** Explain the sort() method. Give an example to demonstrate sorting in MongoDB.\n",
    "\n",
    "**Ans:**\n",
    "\n",
    "The sort() method is used to sort the results of a MongoDB query based on one or more fields. The sort() method takes one or more key-value pairs that specify the field or fields to sort by, as well as the sort order (ascending or descending).\n",
    "\n",
    "*Syntax*\n",
    "\n",
    "collection.find(query).sort(sort_key, sort_order)\n",
    "\n",
    "The query parameter specifies the selection criteria for the query, while the sort_key parameter specifies the field or fields to sort by. The sort_order parameter is optional and can be used to specify whether the results should be sorted in ascending (pymongo.ASCENDING) or descending (pymongo.DESCENDING) order."
   ]
  },
  {
   "cell_type": "code",
   "execution_count": null,
   "metadata": {},
   "outputs": [],
   "source": [
    "mydocs = mycol.find().sort(\"name\", pymongo.ASCENDING)\n",
    "\n",
    "for i in mydocs:\n",
    "    print(i)"
   ]
  },
  {
   "cell_type": "markdown",
   "metadata": {},
   "source": [
    "**Q7.** Explain why delete_one(), delete_many(), and drop() is used.\n",
    "\n",
    "**Ans:**\n",
    "\n",
    "In MongoDB, the delete_one(), delete_many(), and drop() methods are used to delete documents or entire collections from a database.\n",
    "\n",
    "1. The delete_one() method deletes the first document that matches the specified filter. If there are multiple documents that match the filter, only the first one encountered in the collection will be deleted. \n",
    "\n",
    " *syntax:*\n",
    "\n",
    " collection.delete_one(filter)\n",
    "\n",
    " The filter parameter specifies the selection criteria for the documents to be deleted.\n",
    " \n",
    "\n",
    "2. The delete_many() method, on the other hand, deletes all documents that match the specified filter. \n",
    "\n",
    " *syntax:*\n",
    "\n",
    " collection.delete_many(filter)\n",
    " \n",
    "\n",
    "3. The drop() method is used to drop an entire collection from a database. \n",
    "\n",
    " *syntax:*\n",
    "\n",
    " collection.drop()"
   ]
  },
  {
   "cell_type": "code",
   "execution_count": null,
   "metadata": {},
   "outputs": [],
   "source": [
    "mycoll.delete_one()\n",
    "\n",
    "mycoll.delete_many({ \"age\": \"27\"})\n",
    "\n",
    "mycoll.drop()"
   ]
  }
 ],
 "metadata": {
  "kernelspec": {
   "display_name": "Python 3",
   "language": "python",
   "name": "python3"
  },
  "language_info": {
   "codemirror_mode": {
    "name": "ipython",
    "version": 3
   },
   "file_extension": ".py",
   "mimetype": "text/x-python",
   "name": "python",
   "nbconvert_exporter": "python",
   "pygments_lexer": "ipython3",
   "version": "3.8.5"
  }
 },
 "nbformat": 4,
 "nbformat_minor": 4
}
