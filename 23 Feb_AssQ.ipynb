{
 "cells": [
  {
   "cell_type": "markdown",
   "metadata": {},
   "source": [
    "**Q1.** Create a Pandas Series that contains the following data: 4, 8, 15, 16, 23, and 42. Then, print the series.\n",
    "\n",
    "**Ans:**"
   ]
  },
  {
   "cell_type": "code",
   "execution_count": 1,
   "metadata": {},
   "outputs": [
    {
     "name": "stdout",
     "output_type": "stream",
     "text": [
      "0     4\n",
      "1     8\n",
      "2    15\n",
      "3    16\n",
      "4    23\n",
      "5    42\n",
      "dtype: int64\n"
     ]
    }
   ],
   "source": [
    "import pandas as pd\n",
    "\n",
    "data = [4, 8, 15, 16, 23, 42]\n",
    "df = pd.Series(data)\n",
    "print(df)"
   ]
  },
  {
   "cell_type": "markdown",
   "metadata": {},
   "source": [
    "**Q2.** Create a variable of list type containing 10 elements in it, and apply pandas.Series function on the\n",
    "variable print it.\n",
    "\n",
    "**Ans:**"
   ]
  },
  {
   "cell_type": "code",
   "execution_count": 2,
   "metadata": {},
   "outputs": [
    {
     "name": "stdout",
     "output_type": "stream",
     "text": [
      "0     1\n",
      "1     2\n",
      "2     3\n",
      "3     4\n",
      "4     5\n",
      "5     6\n",
      "6     7\n",
      "7     8\n",
      "8     9\n",
      "9    10\n",
      "dtype: int64\n"
     ]
    }
   ],
   "source": [
    "import pandas as pd\n",
    "\n",
    "data = [1, 2, 3, 4, 5, 6, 7, 8, 9, 10]\n",
    "df = pd.Series(data)\n",
    "print(df)"
   ]
  },
  {
   "attachments": {
    "Pandas_DataFrame_Table.jpg": {
     "image/jpeg": "[encoded data removed]"
    }
   },
   "cell_type": "markdown",
   "metadata": {},
   "source": [
    "Q3. Create a Pandas DataFrame that contains the following data:\n",
    "\n",
    "![Pandas_DataFrame_Table.jpg](attachment:Pandas_DataFrame_Table.jpg)\n",
    "\n",
    "Then, print the DataFrame."
   ]
  },
  {
   "cell_type": "code",
   "execution_count": 3,
   "metadata": {},
   "outputs": [
    {
     "name": "stdout",
     "output_type": "stream",
     "text": [
      "     Name  Age  Gender\n",
      "0   Alice   25  Female\n",
      "1     Bob   30    Male\n",
      "2  Claire   27  Female\n"
     ]
    }
   ],
   "source": [
    "import pandas as pd\n",
    "\n",
    "data = {'Name': ['Alice', 'Bob', 'Claire'], 'Age': [25, 30, 27], 'Gender': ['Female', 'Male', 'Female']}\n",
    "df = pd.DataFrame(data)\n",
    "print(df)"
   ]
  },
  {
   "cell_type": "markdown",
   "metadata": {},
   "source": [
    "**Q4.** What is 'DataFrame' in pandas and how is it different from pandas.series? Explain with an example.\n",
    "\n",
    "**Ans:**\n",
    "\n",
    "DataFrame is a two-dimensional labeled data structure with columns of potentially different types. It is similar to a spreadsheet or a SQL table, and provides a way to store and manipulate tabular data. A DataFrame is a collection of one or more Pandas Series, arranged in columns.\n",
    "\n",
    "Pandas Series is a one-dimensional labeled array that can hold any data type. It is similar to a column in a spreadsheet or a SQL table, and provides a way to store and manipulate one-dimensional data."
   ]
  },
  {
   "cell_type": "code",
   "execution_count": 9,
   "metadata": {},
   "outputs": [
    {
     "name": "stdout",
     "output_type": "stream",
     "text": [
      "Series:\n",
      " 0    1\n",
      "1    2\n",
      "2    3\n",
      "3    4\n",
      "4    5\n",
      "dtype: int64\n",
      "\n",
      "DataFrame:\n",
      "      Name  Age  Gender\n",
      "0   Alice   25  Female\n",
      "1     Bob   30    Male\n",
      "2  Claire   27  Female\n"
     ]
    }
   ],
   "source": [
    "import pandas as pd\n",
    "\n",
    "s = pd.Series([1, 2, 3, 4, 5])\n",
    "data = {'Name': ['Alice', 'Bob', 'Claire'], 'Age': [25, 30, 27], 'Gender': ['Female', 'Male', 'Female']}\n",
    "df = pd.DataFrame(data)\n",
    "print(\"Series:\\n\", s)\n",
    "print()\n",
    "print(\"DataFrame:\\n\", df)"
   ]
  },
  {
   "cell_type": "markdown",
   "metadata": {},
   "source": [
    "**Q5.** What are some common functions you can use to manipulate data in a Pandas DataFrame? Can\n",
    "you give an example of when you might use one of these functions?\n",
    "\n",
    "**Ans:**\n",
    "\n",
    "Some common functions you can use to manipulate data in a Pandas DataFrame are:\n",
    "1. head(): Returns the first n rows of a DataFrame. This is useful for quickly checking the structure and content of the data.\n",
    "\n",
    "2. tail(): Returns the last n rows of a DataFrame. This is useful for checking the end of the data.\n",
    "\n",
    "3. info(): Prints a summary of the DataFrame, including the data types of each column, the number of non-null values, and memory usage. This is useful for understanding the size and shape of the data.\n",
    "\n",
    "4. describe(): Generates descriptive statistics of the DataFrame, including count, mean, standard deviation, minimum, maximum, and quartile values. This is useful for understanding the distribution of the data.\n",
    "\n",
    "5. groupby(): Groups the DataFrame by one or more columns and applies a function to each group. This is useful for analyzing data by categories.\n",
    "\n",
    "6. fillna(): It is a function in Pandas that is used to fill missing values in a DataFrame or Series. It takes one or more arguments that specify the value to use for filling the missing values.\n",
    "\n",
    "7. drop(): Drops specified labels from rows or columns of a DataFrame. This is useful for removing unwanted data."
   ]
  },
  {
   "cell_type": "code",
   "execution_count": 33,
   "metadata": {},
   "outputs": [],
   "source": [
    "import pandas as pd\n",
    "\n",
    "data = {'Name': ['Alice', 'Bob', 'James', 'Jasmine', 'Helen'],'Age': [25, None, 27, 29, 28],\n",
    "        'Gender': ['Female', 'Male', None, 'Female', 'Female'], \n",
    "        'Salary': [15000, 25000, 100000, 38000, 50000]}\n",
    "df = pd.DataFrame(data)"
   ]
  },
  {
   "cell_type": "code",
   "execution_count": 21,
   "metadata": {},
   "outputs": [
    {
     "name": "stdout",
     "output_type": "stream",
     "text": [
      "    Name   Age  Gender  Salary\n",
      "0  Alice  25.0  Female   15000\n",
      "1    Bob   NaN    Male   25000\n",
      "2  James  27.0    None  100000\n"
     ]
    }
   ],
   "source": [
    "print(df.head(3))"
   ]
  },
  {
   "cell_type": "code",
   "execution_count": 22,
   "metadata": {},
   "outputs": [
    {
     "name": "stdout",
     "output_type": "stream",
     "text": [
      "      Name   Age  Gender  Salary\n",
      "2    James  27.0    None  100000\n",
      "3  Jasmine  29.0  Female   38000\n",
      "4    Helen  28.0  Female   50000\n"
     ]
    }
   ],
   "source": [
    "print(df.tail(3))"
   ]
  },
  {
   "cell_type": "code",
   "execution_count": 23,
   "metadata": {},
   "outputs": [
    {
     "name": "stdout",
     "output_type": "stream",
     "text": [
      "<class 'pandas.core.frame.DataFrame'>\n",
      "RangeIndex: 5 entries, 0 to 4\n",
      "Data columns (total 4 columns):\n",
      " #   Column  Non-Null Count  Dtype  \n",
      "---  ------  --------------  -----  \n",
      " 0   Name    5 non-null      object \n",
      " 1   Age     4 non-null      float64\n",
      " 2   Gender  4 non-null      object \n",
      " 3   Salary  5 non-null      int64  \n",
      "dtypes: float64(1), int64(1), object(2)\n",
      "memory usage: 288.0+ bytes\n",
      "None\n"
     ]
    }
   ],
   "source": [
    "print(df.info())"
   ]
  },
  {
   "cell_type": "code",
   "execution_count": 24,
   "metadata": {},
   "outputs": [
    {
     "name": "stdout",
     "output_type": "stream",
     "text": [
      "             Age         Salary\n",
      "count   4.000000       5.000000\n",
      "mean   27.250000   45600.000000\n",
      "std     1.707825   33155.693327\n",
      "min    25.000000   15000.000000\n",
      "25%    26.500000   25000.000000\n",
      "50%    27.500000   38000.000000\n",
      "75%    28.250000   50000.000000\n",
      "max    29.000000  100000.000000\n"
     ]
    }
   ],
   "source": [
    "print(df.describe())"
   ]
  },
  {
   "cell_type": "code",
   "execution_count": 34,
   "metadata": {},
   "outputs": [
    {
     "name": "stdout",
     "output_type": "stream",
     "text": [
      "      Salary\n",
      "Age         \n",
      "25.0   15000\n",
      "27.0  100000\n",
      "28.0   50000\n",
      "29.0   38000\n"
     ]
    }
   ],
   "source": [
    "g = df.groupby('Age').mean()\n",
    "print(g)"
   ]
  },
  {
   "cell_type": "code",
   "execution_count": 35,
   "metadata": {},
   "outputs": [
    {
     "data": {
      "text/html": [
       "<div>\n",
       "<style scoped>\n",
       "    .dataframe tbody tr th:only-of-type {\n",
       "        vertical-align: middle;\n",
       "    }\n",
       "\n",
       "    .dataframe tbody tr th {\n",
       "        vertical-align: top;\n",
       "    }\n",
       "\n",
       "    .dataframe thead th {\n",
       "        text-align: right;\n",
       "    }\n",
       "</style>\n",
       "<table border=\"1\" class=\"dataframe\">\n",
       "  <thead>\n",
       "    <tr style=\"text-align: right;\">\n",
       "      <th></th>\n",
       "      <th>Name</th>\n",
       "      <th>Age</th>\n",
       "      <th>Gender</th>\n",
       "      <th>Salary</th>\n",
       "    </tr>\n",
       "  </thead>\n",
       "  <tbody>\n",
       "    <tr>\n",
       "      <th>0</th>\n",
       "      <td>Alice</td>\n",
       "      <td>25.0</td>\n",
       "      <td>Female</td>\n",
       "      <td>15000</td>\n",
       "    </tr>\n",
       "    <tr>\n",
       "      <th>1</th>\n",
       "      <td>Bob</td>\n",
       "      <td>29.0</td>\n",
       "      <td>Male</td>\n",
       "      <td>25000</td>\n",
       "    </tr>\n",
       "    <tr>\n",
       "      <th>2</th>\n",
       "      <td>James</td>\n",
       "      <td>27.0</td>\n",
       "      <td>Male</td>\n",
       "      <td>100000</td>\n",
       "    </tr>\n",
       "    <tr>\n",
       "      <th>3</th>\n",
       "      <td>Jasmine</td>\n",
       "      <td>29.0</td>\n",
       "      <td>Female</td>\n",
       "      <td>38000</td>\n",
       "    </tr>\n",
       "    <tr>\n",
       "      <th>4</th>\n",
       "      <td>Helen</td>\n",
       "      <td>28.0</td>\n",
       "      <td>Female</td>\n",
       "      <td>50000</td>\n",
       "    </tr>\n",
       "  </tbody>\n",
       "</table>\n",
       "</div>"
      ],
      "text/plain": [
       "      Name   Age  Gender  Salary\n",
       "0    Alice  25.0  Female   15000\n",
       "1      Bob  29.0    Male   25000\n",
       "2    James  27.0    Male  100000\n",
       "3  Jasmine  29.0  Female   38000\n",
       "4    Helen  28.0  Female   50000"
      ]
     },
     "execution_count": 35,
     "metadata": {},
     "output_type": "execute_result"
    }
   ],
   "source": [
    "df['Age'].fillna(29, inplace=True)\n",
    "df['Gender'].fillna('Male', inplace=True)\n",
    "df"
   ]
  },
  {
   "cell_type": "markdown",
   "metadata": {},
   "source": [
    "**Q6.** Which of the following is mutable in nature Series, DataFrame, Panel?\n",
    "\n",
    "**Ans:**\n",
    "\n",
    "Series and DataFrame are mutable in nature, meaning their values can be changed or modified after they are created. Panel is also mutable, but it is a less commonly used data structure in Pandas, as it has been deprecated in favor of MultiIndex DataFrames.\n",
    "\n",
    "It is important to note that some operations in Pandas may return a new object rather than modifying the original object in place. For example, when you use the sort_values() function on a DataFrame, it returns a new DataFrame object with the sorted values instead of modifying the original DataFrame."
   ]
  },
  {
   "cell_type": "markdown",
   "metadata": {},
   "source": [
    "**Q7.** Create a DataFrame using multiple Series. Explain with an example.\n",
    "\n",
    "**Ans:**"
   ]
  },
  {
   "cell_type": "code",
   "execution_count": 36,
   "metadata": {},
   "outputs": [
    {
     "name": "stdout",
     "output_type": "stream",
     "text": [
      "     Name  Age  Gender\n",
      "0   Alice   25  Female\n",
      "1     Bob   30    Male\n",
      "2  Claire   27  Female\n"
     ]
    }
   ],
   "source": [
    "import pandas as pd\n",
    "\n",
    "n = pd.Series(['Alice', 'Bob', 'Claire'])\n",
    "a = pd.Series([25, 30, 27])\n",
    "g = pd.Series(['Female', 'Male', 'Female'])\n",
    "\n",
    "data = {'Name': n, 'Age': a, 'Gender': g}\n",
    "df = pd.DataFrame(data)\n",
    "print(df)"
   ]
  },
  {
   "cell_type": "markdown",
   "metadata": {},
   "source": [
    "In this example, we create three Series for the Name, Age, and Gender columns. We then create a dictionary with the column names as keys and the Series as values. Finally, we pass the dictionary to the DataFrame constructor to create the DataFrame.\n",
    "\n",
    "The resulting DataFrame has three columns (Name, Age, and Gender) and three rows of data. Each row corresponds to a value in the original Series, and each column corresponds to a key in the original dictionary."
   ]
  },
  {
   "cell_type": "code",
   "execution_count": null,
   "metadata": {},
   "outputs": [],
   "source": []
  }
 ],
 "metadata": {
  "kernelspec": {
   "display_name": "Python 3",
   "language": "python",
   "name": "python3"
  },
  "language_info": {
   "codemirror_mode": {
    "name": "ipython",
    "version": 3
   },
   "file_extension": ".py",
   "mimetype": "text/x-python",
   "name": "python",
   "nbconvert_exporter": "python",
   "pygments_lexer": "ipython3",
   "version": "3.8.5"
  }
 },
 "nbformat": 4,
 "nbformat_minor": 4
}
