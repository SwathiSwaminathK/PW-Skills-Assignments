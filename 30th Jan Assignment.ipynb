{
 "cells": [
  {
   "cell_type": "markdown",
   "metadata": {},
   "source": [
    "1. Write a program to accept percentage from the user and display the grade according to the\n",
    "following criteria:\n"
   ]
  },
  {
   "cell_type": "code",
   "execution_count": 1,
   "metadata": {},
   "outputs": [
    {
     "name": "stdout",
     "output_type": "stream",
     "text": [
      "Enter the % of marks obtained: 80\n",
      "Your Grade is C\n"
     ]
    }
   ],
   "source": [
    "percent = int(input(\"Enter the % of marks obtained: \"))\n",
    "if percent >90:\n",
    "    print('Your Grade is A')\n",
    "elif percent > 80 and percent <=90:\n",
    "    print('Your Grade is B')\n",
    "elif percent >=60 and percent <=80:\n",
    "    print('Your Grade is C')\n",
    "else:\n",
    "    print('Your Grade is D')"
   ]
  },
  {
   "cell_type": "markdown",
   "metadata": {},
   "source": [
    "2. Write a program to accept the cost price of a bike and display the road tax to be paid according to the following criteria:\n"
   ]
  },
  {
   "cell_type": "code",
   "execution_count": 2,
   "metadata": {},
   "outputs": [
    {
     "name": "stdout",
     "output_type": "stream",
     "text": [
      "Enter the cost price of bike: 50000\n",
      "Tax is 5%\n",
      "Your Road Tax amount is:  2500.0\n"
     ]
    }
   ],
   "source": [
    "cost = int(input(\"Enter the cost price of bike: \"))\n",
    "if cost >100000:\n",
    "    print('Tax is 15%')\n",
    "    print('Your Road Tax amount is: ',cost*(15/100))\n",
    "elif cost >50000 and cost <=100000:\n",
    "    print('Tax is 10%')\n",
    "    print('Your Road Tax amount is: ',cost*(10/100))\n",
    "else:\n",
    "    print('Tax is 5%')\n",
    "    print('Your Road Tax amount is: ',cost*(5/100))"
   ]
  },
  {
   "cell_type": "markdown",
   "metadata": {},
   "source": [
    "3. Accept any city from the user and display monuments of that city."
   ]
  },
  {
   "cell_type": "code",
   "execution_count": null,
   "metadata": {},
   "outputs": [],
   "source": [
    "print(\"List of City \\n 1. Delhi \\n 2. Agra \\n 3. Jaipur \\n\")\n",
    "city = input(\"Enter a city from List: \")\n",
    "if city =='Delhi' or city =='delhi':\n",
    "    print('Monument of the city: Red Fort')\n",
    "elif city =='Agra' or city =='agra':\n",
    "    print('Monument of the city: Taj Mahal')\n",
    "elif city =='Jaipur' or city =='jaipur':\n",
    "    print('Monument of the city: Jal Mahal')\n",
    "else:\n",
    "    print(\"Invalid Input!!!\")"
   ]
  },
  {
   "cell_type": "markdown",
   "metadata": {},
   "source": [
    "4. Check how many times a given number can be divided by 3 before it is less than or equal to 10."
   ]
  },
  {
   "cell_type": "code",
   "execution_count": null,
   "metadata": {},
   "outputs": [],
   "source": [
    "num = int(input(\"Enter a num to check the no of divisibility by 3: \"))\n",
    "temp = num\n",
    "count = 0\n",
    "while temp >10:\n",
    "    if temp % 3 == 0:\n",
    "        temp = temp/3\n",
    "        count = count + 1\n",
    "    else:\n",
    "        break\n",
    "print(\"Count of\", num, \"divided by 3:\", count)"
   ]
  },
  {
   "cell_type": "markdown",
   "metadata": {},
   "source": [
    "5. Why and when to use while loop in python give a detailed description with example.\n",
    "Ans: \n",
    "A while Loop is used to repeat a specific block of code to unknown number of times, until the give condition is satisfied.\n",
    "Example: "
   ]
  },
  {
   "cell_type": "code",
   "execution_count": 3,
   "metadata": {},
   "outputs": [
    {
     "name": "stdout",
     "output_type": "stream",
     "text": [
      "Enter a num to check the no of divisibility by 3: 99\n",
      "Count of 99 divided by 3: 2\n"
     ]
    }
   ],
   "source": [
    "num = int(input(\"Enter a num to check the no of divisibility by 3: \"))\n",
    "temp = num\n",
    "count = 0\n",
    "while temp >10:\n",
    "    if temp % 3 == 0:\n",
    "        temp = temp/3\n",
    "        count = count + 1\n",
    "    else:\n",
    "        break\n",
    "print(\"Count of\", num, \"divided by 3:\", count)"
   ]
  },
  {
   "cell_type": "markdown",
   "metadata": {},
   "source": [
    "6. Use nested while loop to print 3 different patterns."
   ]
  },
  {
   "cell_type": "code",
   "execution_count": 5,
   "metadata": {},
   "outputs": [
    {
     "name": "stdout",
     "output_type": "stream",
     "text": [
      "* \n",
      "* * \n",
      "* * * \n",
      "* * * * \n",
      "* * * * * \n"
     ]
    }
   ],
   "source": [
    "# (A)\n",
    "row = 5   \n",
    "i = 1\n",
    "while i <= row :\n",
    "    j = 1\n",
    "    while j <= i:\n",
    "        print(\"*\", end=\" \")\n",
    "        j = j + 1\n",
    "    print()\n",
    "    i = i + 1\n"
   ]
  },
  {
   "cell_type": "code",
   "execution_count": 6,
   "metadata": {},
   "outputs": [
    {
     "name": "stdout",
     "output_type": "stream",
     "text": [
      "* * * * * \n",
      "* * * * \n",
      "* * * \n",
      "* * \n",
      "* \n"
     ]
    }
   ],
   "source": [
    "# (B)\n",
    "row = 5   \n",
    "i = 1\n",
    "while i <= row:\n",
    "    j = row\n",
    "    while j >= i:\n",
    "        print(\"*\", end=\" \")\n",
    "        j = j - 1\n",
    "    print()    \n",
    "    i = i + 1 "
   ]
  },
  {
   "cell_type": "code",
   "execution_count": 7,
   "metadata": {},
   "outputs": [
    {
     "name": "stdout",
     "output_type": "stream",
     "text": [
      "* \n",
      "* * \n",
      "* * * \n",
      "* * \n",
      "* \n"
     ]
    }
   ],
   "source": [
    "# (C)\n",
    "row = 5   \n",
    "i = 1\n",
    "temp = round(row/2)\n",
    "while i <= temp :\n",
    "    j = 1\n",
    "    while j <= i:\n",
    "        print(\"*\", end=\" \")\n",
    "        j = j + 1\n",
    "    print()\n",
    "    i = i + 1\n",
    "while i <= row:\n",
    "    j = row\n",
    "    while j >= i:\n",
    "        print(\"*\", end=\" \")\n",
    "        j = j - 1\n",
    "    print()    \n",
    "    i = i + 1 "
   ]
  },
  {
   "cell_type": "markdown",
   "metadata": {},
   "source": [
    "7. Reverse a while loop to display numbers from 10 to 1."
   ]
  },
  {
   "cell_type": "code",
   "execution_count": 8,
   "metadata": {},
   "outputs": [
    {
     "name": "stdout",
     "output_type": "stream",
     "text": [
      "10\n",
      "9\n",
      "8\n",
      "7\n",
      "6\n",
      "5\n",
      "4\n",
      "3\n",
      "2\n",
      "1\n"
     ]
    }
   ],
   "source": [
    "i = 10\n",
    "while i>=1:\n",
    "    print(i)\n",
    "    i = i-1"
   ]
  },
  {
   "cell_type": "markdown",
   "metadata": {},
   "source": [
    "8. Reverse a while loop to display numbers from 10 to 1."
   ]
  },
  {
   "cell_type": "code",
   "execution_count": 9,
   "metadata": {},
   "outputs": [
    {
     "name": "stdout",
     "output_type": "stream",
     "text": [
      "10\n",
      "9\n",
      "8\n",
      "7\n",
      "6\n",
      "5\n",
      "4\n",
      "3\n",
      "2\n",
      "1\n"
     ]
    }
   ],
   "source": [
    "i = 10\n",
    "while i>=1:\n",
    "    print(i)\n",
    "    i = i-1"
   ]
  },
  {
   "cell_type": "code",
   "execution_count": null,
   "metadata": {},
   "outputs": [],
   "source": []
  }
 ],
 "metadata": {
  "kernelspec": {
   "display_name": "Python 3",
   "language": "python",
   "name": "python3"
  },
  "language_info": {
   "codemirror_mode": {
    "name": "ipython",
    "version": 3
   },
   "file_extension": ".py",
   "mimetype": "text/x-python",
   "name": "python",
   "nbconvert_exporter": "python",
   "pygments_lexer": "ipython3",
   "version": "3.8.5"
  }
 },
 "nbformat": 4,
 "nbformat_minor": 4
}
