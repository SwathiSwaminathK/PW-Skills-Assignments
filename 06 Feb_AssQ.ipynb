{
 "cells": [
  {
   "cell_type": "markdown",
   "metadata": {},
   "source": [
    "**1.** Create a function which will take a list as an argument and return the product of all the numbers after creating a flat list.\n",
    "\n",
    " Use the below-given list as an argument for your function.\n",
    "\n",
    " list1 = [1,2,3,4, [44,55,66, True], False, (34,56,78,89,34), {1,2,3,3,2,1}, {1:34, \"key2\": [55, 67, 78, 89], 4: (45,\n",
    "22, 61, 34)}, [56, 'data science'], 'Machine Learning']\n",
    "\n",
    " Note: you must extract numeric keys and values of the dictionary also."
   ]
  },
  {
   "cell_type": "code",
   "execution_count": 25,
   "metadata": {},
   "outputs": [
    {
     "name": "stdout",
     "output_type": "stream",
     "text": [
      "[1, 2, 3, 4, 44, 55, 66, 34, 56, 78, 89, 34, 1, 2, 3, 1, 4, 34, 55, 67, 78, 89, 45, 22, 61, 34, 56]\n"
     ]
    },
    {
     "data": {
      "text/plain": [
       "('product of list:', 4134711838987085478833841242112000)"
      ]
     },
     "execution_count": 25,
     "metadata": {},
     "output_type": "execute_result"
    }
   ],
   "source": [
    "list1 = [1,2,3,4, [44,55,66, True], False, (34,56,78,89,34), {1,2,3,3,2,1}, \n",
    "         {1:34, \"key2\": [55, 67, 78, 89], 4: (45, 22, 61, 34)}, [56, 'data science'], 'Machine Learning']\n",
    "\n",
    "def product(n):\n",
    "\n",
    "    l = []\n",
    "    for i in n:\n",
    "        # for numeric values in list\n",
    "        if type(i) == int or type(i) == float:\n",
    "            l.append(i)\n",
    "        \n",
    "        # for list in list  \n",
    "        elif type(i) == list:\n",
    "            for j in i:\n",
    "                if type(j) == int or type(j) == float:\n",
    "                    l.append(j)\n",
    "        \n",
    "        # for tuples in list\n",
    "        elif type(i) == tuple:\n",
    "            for j in i:\n",
    "                if type(j) == int or type(j) == float:\n",
    "                    l.append(j)\n",
    "        \n",
    "        # for dict in list\n",
    "        elif type(i) == dict:\n",
    "            for j in list(i.keys()):\n",
    "                \n",
    "                # for numeric values in dict keys of list\n",
    "                if type(j) == int or type(j) == float:\n",
    "                    l.append(j)\n",
    "                \n",
    "                else:\n",
    "                    \n",
    "                    # for tuple in dict keys of list\n",
    "                    if type(j) == tuple:\n",
    "                        for k in j:\n",
    "                            if type(k) == int or type(k) == float:\n",
    "                                l.append(k)\n",
    "                                \n",
    "            for j in list(i.values()):\n",
    "                \n",
    "                # for numeric values in dict values of list\n",
    "                if type(j) == int or type(j) == float:\n",
    "                    l.append(j)\n",
    "                    \n",
    "                # for list in dict values    \n",
    "                elif type(j) == list:\n",
    "                    for k in j:\n",
    "                        if type(k) == int or type(k) == float:\n",
    "                            l.append(k)\n",
    "                \n",
    "                # for tuple in dict values\n",
    "                elif type(j) == tuple:\n",
    "                    for k in j:\n",
    "                        if type(k) == int or type(k) == float:\n",
    "                            l.append(k)\n",
    "                            \n",
    "                # for dict in dict values of list           \n",
    "                elif type(j) == dict:\n",
    "                    for k in list(j.keys()):\n",
    "                        if type(k) == int or type(k) == float:\n",
    "                            l.append(k)\n",
    "                        else:\n",
    "                            if type(k) == tuple:\n",
    "                                for m in k:\n",
    "                                    if type(m) == int or type(m) == float:\n",
    "                                        l.append(m)\n",
    "                                        \n",
    "                    for k in list(j.values()):\n",
    "                        \n",
    "                        if type(k) == int or type(k) == float:\n",
    "                            l.append(k)\n",
    "                            \n",
    "                        elif type(k) == set:\n",
    "                            for m in k:\n",
    "                                if type(m) == int or type() == float:\n",
    "                                    l.append(m)\n",
    "                                    \n",
    "                        elif type(k) == list:\n",
    "                            for m in k:\n",
    "                                if type(m) == int or type() == float:\n",
    "                                    l.append(m)\n",
    "                                    \n",
    "                        else:\n",
    "                            if type(k) == tuple:\n",
    "                                for m in k:\n",
    "                                    if type(m) == int or type(m) == float:\n",
    "                                        l.append(m)            \n",
    "                    \n",
    "                else:\n",
    "                    \n",
    "                    # for set in dict values of list\n",
    "                    if type(j) == set:\n",
    "                        for k in j:\n",
    "                            if type(k) == int or type(k) == float:\n",
    "                                l.append(k)\n",
    "        \n",
    "        # for set in list\n",
    "        else: \n",
    "            if type(i) == set:\n",
    "                for j in i:\n",
    "                    if type(j) == int or type(j) == float:\n",
    "                        l.append(j)\n",
    "    \n",
    "    print(l)\n",
    "    from functools import reduce            \n",
    "    return (\"product of list:\",reduce(lambda x, y : x*y, l))\n",
    "\n",
    "\n",
    "product(list1)"
   ]
  },
  {
   "cell_type": "code",
   "execution_count": 22,
   "metadata": {},
   "outputs": [],
   "source": [
    "list1 = [1,2,3,4, [44,55,66, True], False, (34,56,78,89,34), {1,2,3,3,2,1}, \n",
    "         {1:34, \"key2\": [55, 67, 78, 89], 4: (45, 22, 61, 34)}, [56, 'data science'], 'Machine Learning']"
   ]
  },
  {
   "cell_type": "markdown",
   "metadata": {},
   "source": [
    "**2.** Write a python program for encrypting a message sent to you by your friend. The logic of encryption should be such that, for a the output should be z. For b, the output should be y. For c, the output should\n",
    "be x respectively. Also, the whitespace should be replaced with a dollar sign. Keep the punctuation\n",
    "marks unchanged.\n",
    "\n",
    " Input Sentence: I want to become a Data Scientist.\n",
    "\n",
    " Encrypt the above input sentence using the program you just created.\n",
    " \n",
    " Note: Convert the given input sentence into lowercase before encrypting. The final output should be lowercase."
   ]
  },
  {
   "cell_type": "code",
   "execution_count": 24,
   "metadata": {},
   "outputs": [
    {
     "name": "stdout",
     "output_type": "stream",
     "text": [
      "i$want$to$become$a$data$scientist. \n",
      "\n",
      "r$dzmg$gl$yvxlnv$z$wzgz$hxrvmgrhg.\n"
     ]
    }
   ],
   "source": [
    "data = 'I want to become a Data Scientist.'\n",
    "data = data.lower()\n",
    "data = data.replace(\" \",'$')\n",
    "print(data,'\\n')\n",
    "\n",
    "code = {'a': 'z', 'b': 'y', 'c': 'x', 'd': 'w', 'e': 'v', 'f': 'u', 'g': 't', 'h': 's',\n",
    "        'i': 'r', 'j': 'q', 'k': 'p', 'l': 'o', 'm': 'n', 'n': 'm', 'o': 'l', 'p': 'k', \n",
    "        'q': 'j', 'r': 'i', 's': 'h', 't': 'g', 'u': 'F', 'v': 'e', 'w': 'd', 'x': 'c', \n",
    "        'y': 'b', 'z': 'a'}\n",
    "\n",
    "converted = \"\"\n",
    "\n",
    "for i in range(0, len(data)):\n",
    "    if data[i] in code.keys():\n",
    "        converted += code[data[i]]\n",
    "    else:\n",
    "        converted += data[i]\n",
    "\n",
    "print(converted)"
   ]
  },
  {
   "cell_type": "code",
   "execution_count": null,
   "metadata": {},
   "outputs": [],
   "source": []
  }
 ],
 "metadata": {
  "kernelspec": {
   "display_name": "Python 3",
   "language": "python",
   "name": "python3"
  },
  "language_info": {
   "codemirror_mode": {
    "name": "ipython",
    "version": 3
   },
   "file_extension": ".py",
   "mimetype": "text/x-python",
   "name": "python",
   "nbconvert_exporter": "python",
   "pygments_lexer": "ipython3",
   "version": "3.8.5"
  }
 },
 "nbformat": 4,
 "nbformat_minor": 4
}
