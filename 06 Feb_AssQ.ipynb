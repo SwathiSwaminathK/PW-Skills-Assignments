{
 "cells": [
  {
   "cell_type": "markdown",
   "metadata": {},
   "source": [
    "**1.** Create a function which will take a list as an argument and return the product of all the numbers after creating a flat list.\n",
    "\n",
    " Use the below-given list as an argument for your function.\n",
    "\n",
    " list1 = [1,2,3,4, [44,55,66, True], False, (34,56,78,89,34), {1,2,3,3,2,1}, {1:34, \"key2\": [55, 67, 78, 89], 4: (45,\n",
    "22, 61, 34)}, [56, 'data science'], 'Machine Learning']\n",
    "\n",
    " Note: you must extract numeric keys and values of the dictionary also."
   ]
  },
  {
   "cell_type": "code",
   "execution_count": 12,
   "metadata": {},
   "outputs": [
    {
     "name": "stdout",
     "output_type": "stream",
     "text": [
      "[1, 2, 3, 4, 44, 55, 66, 34, 56, 78, 89, 34, 1, 2, 3, 1, 34, 55, 67, 78, 89, 4, 45, 22, 61, 34, 56]\n"
     ]
    },
    {
     "data": {
      "text/plain": [
       "('product of list:', 4134711838987085478833841242112000)"
      ]
     },
     "execution_count": 12,
     "metadata": {},
     "output_type": "execute_result"
    }
   ],
   "source": [
    "list1 = [1,2,3,4, [44,55,66, True], False, (34,56,78,89,34), {1,2,3,3,2,1}, \n",
    "         {1:34, \"key2\": [55, 67, 78, 89], 4: (45, 22, 61, 34)}, [56, 'data science'], 'Machine Learning']\n",
    "\n",
    "def product(lst):\n",
    "    \n",
    "    new_list = []\n",
    "    \n",
    "    def num(lst):\n",
    "        \n",
    "        for i in lst:\n",
    "            \n",
    "            if type(i) == int:\n",
    "                new_list.append(i)\n",
    "                \n",
    "            elif type(i) == float:\n",
    "                new_list.append(i)\n",
    "            \n",
    "            elif type(i) == tuple:\n",
    "                num(i)\n",
    "            \n",
    "            elif type(i) == set:\n",
    "                num(i)\n",
    "            \n",
    "            elif type(i) == list:\n",
    "                num(i)\n",
    "            \n",
    "            elif type(i) == dict:\n",
    "                \n",
    "                for key, value in i.items():\n",
    "                    \n",
    "                    if type(key) in [int, float]:\n",
    "                        new_list.append(key)\n",
    "                    \n",
    "                    if type(key) in [list, tuple]:\n",
    "                        num(key)\n",
    "                    \n",
    "                    if type(value) in [int, float]:\n",
    "                        new_list.append(value)\n",
    "                    \n",
    "                    if type(value) in [list, tuple, set, dict]:\n",
    "                        num(value)\n",
    "                        \n",
    "    num(lst)\n",
    "    \n",
    "    print(new_list)\n",
    "    \n",
    "    from functools import reduce            \n",
    "    return (\"product of list:\",reduce(lambda x, y : x*y, new_list))\n",
    "    \n",
    "product(list1)"
   ]
  },
  {
   "cell_type": "markdown",
   "metadata": {},
   "source": [
    "**2.** Write a python program for encrypting a message sent to you by your friend. The logic of encryption should be such that, for a the output should be z. For b, the output should be y. For c, the output should\n",
    "be x respectively. Also, the whitespace should be replaced with a dollar sign. Keep the punctuation\n",
    "marks unchanged.\n",
    "\n",
    " Input Sentence: I want to become a Data Scientist.\n",
    "\n",
    " Encrypt the above input sentence using the program you just created.\n",
    " \n",
    " Note: Convert the given input sentence into lowercase before encrypting. The final output should be lowercase."
   ]
  },
  {
   "cell_type": "code",
   "execution_count": 10,
   "metadata": {},
   "outputs": [
    {
     "name": "stdout",
     "output_type": "stream",
     "text": [
      "Input Sentence: I want to become a Data Scientist.\n",
      "Encrypted message: r$dzmg$gl$yvxlnv$z$wzgz$hxrvmgrhg.\n"
     ]
    }
   ],
   "source": [
    "def encrypt(n):\n",
    "    \n",
    "    n = n.lower()\n",
    "    code = {'a': 'z', 'b': 'y', 'c': 'x', 'd': 'w', 'e': 'v', 'f': 'u', \n",
    "               'g': 't', 'h': 's', 'i': 'r', 'j': 'q', 'k': 'p', 'l': 'o', \n",
    "               'm': 'n', 'n': 'm', 'o': 'l', 'p': 'k', 'q': 'j', 'r': 'i', \n",
    "               's': 'h', 't': 'g', 'u': 'f', 'v': 'e', 'w': 'd', 'x': 'c', \n",
    "               'y': 'b', 'z': 'a', ' ': '$'}\n",
    "    \n",
    "    encrypt_msg = \"\"\n",
    "    \n",
    "    for i in n:\n",
    "        \n",
    "        if i == ' ':\n",
    "            encrypt_msg += code[i]\n",
    "            \n",
    "        elif i in code:\n",
    "            encrypt_msg += code[i]\n",
    "        \n",
    "        else:\n",
    "            encrypt_msg += i\n",
    "    \n",
    "    return encrypt_msg\n",
    "\n",
    "msg = \"I want to become a Data Scientist.\"\n",
    "print('Input Sentence:', msg)\n",
    "\n",
    "encrypt_msg = encrypt(msg)\n",
    "print(\"Encrypted message:\", encrypt_msg)"
   ]
  },
  {
   "cell_type": "code",
   "execution_count": null,
   "metadata": {},
   "outputs": [],
   "source": []
  }
 ],
 "metadata": {
  "kernelspec": {
   "display_name": "Python 3",
   "language": "python",
   "name": "python3"
  },
  "language_info": {
   "codemirror_mode": {
    "name": "ipython",
    "version": 3
   },
   "file_extension": ".py",
   "mimetype": "text/x-python",
   "name": "python",
   "nbconvert_exporter": "python",
   "pygments_lexer": "ipython3",
   "version": "3.8.5"
  }
 },
 "nbformat": 4,
 "nbformat_minor": 4
}
